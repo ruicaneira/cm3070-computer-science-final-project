{
 "cells": [
  {
   "cell_type": "code",
   "execution_count": 1,
   "id": "ed022cda",
   "metadata": {},
   "outputs": [],
   "source": [
    "#import math libraries\n",
    "import numpy as np\n",
    "import pandas as pd\n",
    "#import plot libraries\n",
    "import matplotlib.pyplot as plt\n",
    "import seaborn as sns\n",
    "#import our machine learning API libraries\n",
    "import tensorflow as tf\n",
    "from tensorflow import keras\n",
    "from tensorflow.keras import layers\n",
    "from tensorflow.keras.layers.experimental import preprocessing\n",
    "from tensorflow.keras import models"
   ]
  },
  {
   "cell_type": "markdown",
   "id": "0fc420fa",
   "metadata": {},
   "source": [
    "## Dataset Initial Analysis"
   ]
  },
  {
   "cell_type": "code",
   "execution_count": 2,
   "id": "ed4367c2",
   "metadata": {},
   "outputs": [
    {
     "data": {
      "text/plain": [
       "(569, 33)"
      ]
     },
     "execution_count": 2,
     "metadata": {},
     "output_type": "execute_result"
    }
   ],
   "source": [
    "#Load dataset for cancer cell features and classification\n",
    "#Dataset downloaded from https://www.kaggle.com/datasets/erdemtaha/cancer-data?resource=download\n",
    "dataset_file = \"Dataset/Cancer_Data.csv.\"\n",
    "data = pd.read_csv(dataset_file)\n",
    "\n",
    "#lets see how our data looks after being loaded\n",
    "data.shape"
   ]
  },
  {
   "cell_type": "code",
   "execution_count": 3,
   "id": "3bd62d6b",
   "metadata": {},
   "outputs": [
    {
     "data": {
      "text/plain": [
       "Index(['id', 'diagnosis', 'radius_mean', 'texture_mean', 'perimeter_mean',\n",
       "       'area_mean', 'smoothness_mean', 'compactness_mean', 'concavity_mean',\n",
       "       'concave points_mean', 'symmetry_mean', 'fractal_dimension_mean',\n",
       "       'radius_se', 'texture_se', 'perimeter_se', 'area_se', 'smoothness_se',\n",
       "       'compactness_se', 'concavity_se', 'concave points_se', 'symmetry_se',\n",
       "       'fractal_dimension_se', 'radius_worst', 'texture_worst',\n",
       "       'perimeter_worst', 'area_worst', 'smoothness_worst',\n",
       "       'compactness_worst', 'concavity_worst', 'concave points_worst',\n",
       "       'symmetry_worst', 'fractal_dimension_worst', 'Unnamed: 32'],\n",
       "      dtype='object')"
      ]
     },
     "execution_count": 3,
     "metadata": {},
     "output_type": "execute_result"
    }
   ],
   "source": [
    "#check our data table columns name\n",
    "data.columns"
   ]
  },
  {
   "cell_type": "code",
   "execution_count": 4,
   "id": "b699d234",
   "metadata": {},
   "outputs": [
    {
     "data": {
      "text/html": [
       "<div>\n",
       "<style scoped>\n",
       "    .dataframe tbody tr th:only-of-type {\n",
       "        vertical-align: middle;\n",
       "    }\n",
       "\n",
       "    .dataframe tbody tr th {\n",
       "        vertical-align: top;\n",
       "    }\n",
       "\n",
       "    .dataframe thead th {\n",
       "        text-align: right;\n",
       "    }\n",
       "</style>\n",
       "<table border=\"1\" class=\"dataframe\">\n",
       "  <thead>\n",
       "    <tr style=\"text-align: right;\">\n",
       "      <th></th>\n",
       "      <th>id</th>\n",
       "      <th>diagnosis</th>\n",
       "      <th>radius_mean</th>\n",
       "      <th>texture_mean</th>\n",
       "      <th>perimeter_mean</th>\n",
       "      <th>area_mean</th>\n",
       "      <th>smoothness_mean</th>\n",
       "      <th>compactness_mean</th>\n",
       "      <th>concavity_mean</th>\n",
       "      <th>concave points_mean</th>\n",
       "      <th>...</th>\n",
       "      <th>texture_worst</th>\n",
       "      <th>perimeter_worst</th>\n",
       "      <th>area_worst</th>\n",
       "      <th>smoothness_worst</th>\n",
       "      <th>compactness_worst</th>\n",
       "      <th>concavity_worst</th>\n",
       "      <th>concave points_worst</th>\n",
       "      <th>symmetry_worst</th>\n",
       "      <th>fractal_dimension_worst</th>\n",
       "      <th>Unnamed: 32</th>\n",
       "    </tr>\n",
       "  </thead>\n",
       "  <tbody>\n",
       "    <tr>\n",
       "      <th>0</th>\n",
       "      <td>842302</td>\n",
       "      <td>M</td>\n",
       "      <td>17.99</td>\n",
       "      <td>10.38</td>\n",
       "      <td>122.80</td>\n",
       "      <td>1001.0</td>\n",
       "      <td>0.11840</td>\n",
       "      <td>0.27760</td>\n",
       "      <td>0.3001</td>\n",
       "      <td>0.14710</td>\n",
       "      <td>...</td>\n",
       "      <td>17.33</td>\n",
       "      <td>184.60</td>\n",
       "      <td>2019.0</td>\n",
       "      <td>0.1622</td>\n",
       "      <td>0.6656</td>\n",
       "      <td>0.7119</td>\n",
       "      <td>0.2654</td>\n",
       "      <td>0.4601</td>\n",
       "      <td>0.11890</td>\n",
       "      <td>NaN</td>\n",
       "    </tr>\n",
       "    <tr>\n",
       "      <th>1</th>\n",
       "      <td>842517</td>\n",
       "      <td>M</td>\n",
       "      <td>20.57</td>\n",
       "      <td>17.77</td>\n",
       "      <td>132.90</td>\n",
       "      <td>1326.0</td>\n",
       "      <td>0.08474</td>\n",
       "      <td>0.07864</td>\n",
       "      <td>0.0869</td>\n",
       "      <td>0.07017</td>\n",
       "      <td>...</td>\n",
       "      <td>23.41</td>\n",
       "      <td>158.80</td>\n",
       "      <td>1956.0</td>\n",
       "      <td>0.1238</td>\n",
       "      <td>0.1866</td>\n",
       "      <td>0.2416</td>\n",
       "      <td>0.1860</td>\n",
       "      <td>0.2750</td>\n",
       "      <td>0.08902</td>\n",
       "      <td>NaN</td>\n",
       "    </tr>\n",
       "    <tr>\n",
       "      <th>2</th>\n",
       "      <td>84300903</td>\n",
       "      <td>M</td>\n",
       "      <td>19.69</td>\n",
       "      <td>21.25</td>\n",
       "      <td>130.00</td>\n",
       "      <td>1203.0</td>\n",
       "      <td>0.10960</td>\n",
       "      <td>0.15990</td>\n",
       "      <td>0.1974</td>\n",
       "      <td>0.12790</td>\n",
       "      <td>...</td>\n",
       "      <td>25.53</td>\n",
       "      <td>152.50</td>\n",
       "      <td>1709.0</td>\n",
       "      <td>0.1444</td>\n",
       "      <td>0.4245</td>\n",
       "      <td>0.4504</td>\n",
       "      <td>0.2430</td>\n",
       "      <td>0.3613</td>\n",
       "      <td>0.08758</td>\n",
       "      <td>NaN</td>\n",
       "    </tr>\n",
       "    <tr>\n",
       "      <th>3</th>\n",
       "      <td>84348301</td>\n",
       "      <td>M</td>\n",
       "      <td>11.42</td>\n",
       "      <td>20.38</td>\n",
       "      <td>77.58</td>\n",
       "      <td>386.1</td>\n",
       "      <td>0.14250</td>\n",
       "      <td>0.28390</td>\n",
       "      <td>0.2414</td>\n",
       "      <td>0.10520</td>\n",
       "      <td>...</td>\n",
       "      <td>26.50</td>\n",
       "      <td>98.87</td>\n",
       "      <td>567.7</td>\n",
       "      <td>0.2098</td>\n",
       "      <td>0.8663</td>\n",
       "      <td>0.6869</td>\n",
       "      <td>0.2575</td>\n",
       "      <td>0.6638</td>\n",
       "      <td>0.17300</td>\n",
       "      <td>NaN</td>\n",
       "    </tr>\n",
       "    <tr>\n",
       "      <th>4</th>\n",
       "      <td>84358402</td>\n",
       "      <td>M</td>\n",
       "      <td>20.29</td>\n",
       "      <td>14.34</td>\n",
       "      <td>135.10</td>\n",
       "      <td>1297.0</td>\n",
       "      <td>0.10030</td>\n",
       "      <td>0.13280</td>\n",
       "      <td>0.1980</td>\n",
       "      <td>0.10430</td>\n",
       "      <td>...</td>\n",
       "      <td>16.67</td>\n",
       "      <td>152.20</td>\n",
       "      <td>1575.0</td>\n",
       "      <td>0.1374</td>\n",
       "      <td>0.2050</td>\n",
       "      <td>0.4000</td>\n",
       "      <td>0.1625</td>\n",
       "      <td>0.2364</td>\n",
       "      <td>0.07678</td>\n",
       "      <td>NaN</td>\n",
       "    </tr>\n",
       "  </tbody>\n",
       "</table>\n",
       "<p>5 rows × 33 columns</p>\n",
       "</div>"
      ],
      "text/plain": [
       "         id diagnosis  radius_mean  texture_mean  perimeter_mean  area_mean  \\\n",
       "0    842302         M        17.99         10.38          122.80     1001.0   \n",
       "1    842517         M        20.57         17.77          132.90     1326.0   \n",
       "2  84300903         M        19.69         21.25          130.00     1203.0   \n",
       "3  84348301         M        11.42         20.38           77.58      386.1   \n",
       "4  84358402         M        20.29         14.34          135.10     1297.0   \n",
       "\n",
       "   smoothness_mean  compactness_mean  concavity_mean  concave points_mean  \\\n",
       "0          0.11840           0.27760          0.3001              0.14710   \n",
       "1          0.08474           0.07864          0.0869              0.07017   \n",
       "2          0.10960           0.15990          0.1974              0.12790   \n",
       "3          0.14250           0.28390          0.2414              0.10520   \n",
       "4          0.10030           0.13280          0.1980              0.10430   \n",
       "\n",
       "   ...  texture_worst  perimeter_worst  area_worst  smoothness_worst  \\\n",
       "0  ...          17.33           184.60      2019.0            0.1622   \n",
       "1  ...          23.41           158.80      1956.0            0.1238   \n",
       "2  ...          25.53           152.50      1709.0            0.1444   \n",
       "3  ...          26.50            98.87       567.7            0.2098   \n",
       "4  ...          16.67           152.20      1575.0            0.1374   \n",
       "\n",
       "   compactness_worst  concavity_worst  concave points_worst  symmetry_worst  \\\n",
       "0             0.6656           0.7119                0.2654          0.4601   \n",
       "1             0.1866           0.2416                0.1860          0.2750   \n",
       "2             0.4245           0.4504                0.2430          0.3613   \n",
       "3             0.8663           0.6869                0.2575          0.6638   \n",
       "4             0.2050           0.4000                0.1625          0.2364   \n",
       "\n",
       "   fractal_dimension_worst  Unnamed: 32  \n",
       "0                  0.11890          NaN  \n",
       "1                  0.08902          NaN  \n",
       "2                  0.08758          NaN  \n",
       "3                  0.17300          NaN  \n",
       "4                  0.07678          NaN  \n",
       "\n",
       "[5 rows x 33 columns]"
      ]
     },
     "execution_count": 4,
     "metadata": {},
     "output_type": "execute_result"
    }
   ],
   "source": [
    "#data table 5 first rows\n",
    "data.head()"
   ]
  },
  {
   "cell_type": "markdown",
   "id": "7fcd7251",
   "metadata": {},
   "source": [
    "From the columns we can clearly see that there exists an id and unnamed column that are not relevant for our model since those are not characteristics of cancer cells. The id is a unique identifier for each cell and the unnamed are columns with no values of interest. There for it is safe to drop these columns from our data."
   ]
  },
  {
   "cell_type": "code",
   "execution_count": 5,
   "id": "b50eab75",
   "metadata": {},
   "outputs": [
    {
     "data": {
      "text/html": [
       "<div>\n",
       "<style scoped>\n",
       "    .dataframe tbody tr th:only-of-type {\n",
       "        vertical-align: middle;\n",
       "    }\n",
       "\n",
       "    .dataframe tbody tr th {\n",
       "        vertical-align: top;\n",
       "    }\n",
       "\n",
       "    .dataframe thead th {\n",
       "        text-align: right;\n",
       "    }\n",
       "</style>\n",
       "<table border=\"1\" class=\"dataframe\">\n",
       "  <thead>\n",
       "    <tr style=\"text-align: right;\">\n",
       "      <th></th>\n",
       "      <th>diagnosis</th>\n",
       "      <th>radius_mean</th>\n",
       "      <th>texture_mean</th>\n",
       "      <th>perimeter_mean</th>\n",
       "      <th>area_mean</th>\n",
       "      <th>smoothness_mean</th>\n",
       "      <th>compactness_mean</th>\n",
       "      <th>concavity_mean</th>\n",
       "      <th>concave points_mean</th>\n",
       "      <th>symmetry_mean</th>\n",
       "      <th>...</th>\n",
       "      <th>radius_worst</th>\n",
       "      <th>texture_worst</th>\n",
       "      <th>perimeter_worst</th>\n",
       "      <th>area_worst</th>\n",
       "      <th>smoothness_worst</th>\n",
       "      <th>compactness_worst</th>\n",
       "      <th>concavity_worst</th>\n",
       "      <th>concave points_worst</th>\n",
       "      <th>symmetry_worst</th>\n",
       "      <th>fractal_dimension_worst</th>\n",
       "    </tr>\n",
       "  </thead>\n",
       "  <tbody>\n",
       "    <tr>\n",
       "      <th>0</th>\n",
       "      <td>M</td>\n",
       "      <td>17.99</td>\n",
       "      <td>10.38</td>\n",
       "      <td>122.80</td>\n",
       "      <td>1001.0</td>\n",
       "      <td>0.11840</td>\n",
       "      <td>0.27760</td>\n",
       "      <td>0.3001</td>\n",
       "      <td>0.14710</td>\n",
       "      <td>0.2419</td>\n",
       "      <td>...</td>\n",
       "      <td>25.38</td>\n",
       "      <td>17.33</td>\n",
       "      <td>184.60</td>\n",
       "      <td>2019.0</td>\n",
       "      <td>0.1622</td>\n",
       "      <td>0.6656</td>\n",
       "      <td>0.7119</td>\n",
       "      <td>0.2654</td>\n",
       "      <td>0.4601</td>\n",
       "      <td>0.11890</td>\n",
       "    </tr>\n",
       "    <tr>\n",
       "      <th>1</th>\n",
       "      <td>M</td>\n",
       "      <td>20.57</td>\n",
       "      <td>17.77</td>\n",
       "      <td>132.90</td>\n",
       "      <td>1326.0</td>\n",
       "      <td>0.08474</td>\n",
       "      <td>0.07864</td>\n",
       "      <td>0.0869</td>\n",
       "      <td>0.07017</td>\n",
       "      <td>0.1812</td>\n",
       "      <td>...</td>\n",
       "      <td>24.99</td>\n",
       "      <td>23.41</td>\n",
       "      <td>158.80</td>\n",
       "      <td>1956.0</td>\n",
       "      <td>0.1238</td>\n",
       "      <td>0.1866</td>\n",
       "      <td>0.2416</td>\n",
       "      <td>0.1860</td>\n",
       "      <td>0.2750</td>\n",
       "      <td>0.08902</td>\n",
       "    </tr>\n",
       "    <tr>\n",
       "      <th>2</th>\n",
       "      <td>M</td>\n",
       "      <td>19.69</td>\n",
       "      <td>21.25</td>\n",
       "      <td>130.00</td>\n",
       "      <td>1203.0</td>\n",
       "      <td>0.10960</td>\n",
       "      <td>0.15990</td>\n",
       "      <td>0.1974</td>\n",
       "      <td>0.12790</td>\n",
       "      <td>0.2069</td>\n",
       "      <td>...</td>\n",
       "      <td>23.57</td>\n",
       "      <td>25.53</td>\n",
       "      <td>152.50</td>\n",
       "      <td>1709.0</td>\n",
       "      <td>0.1444</td>\n",
       "      <td>0.4245</td>\n",
       "      <td>0.4504</td>\n",
       "      <td>0.2430</td>\n",
       "      <td>0.3613</td>\n",
       "      <td>0.08758</td>\n",
       "    </tr>\n",
       "    <tr>\n",
       "      <th>3</th>\n",
       "      <td>M</td>\n",
       "      <td>11.42</td>\n",
       "      <td>20.38</td>\n",
       "      <td>77.58</td>\n",
       "      <td>386.1</td>\n",
       "      <td>0.14250</td>\n",
       "      <td>0.28390</td>\n",
       "      <td>0.2414</td>\n",
       "      <td>0.10520</td>\n",
       "      <td>0.2597</td>\n",
       "      <td>...</td>\n",
       "      <td>14.91</td>\n",
       "      <td>26.50</td>\n",
       "      <td>98.87</td>\n",
       "      <td>567.7</td>\n",
       "      <td>0.2098</td>\n",
       "      <td>0.8663</td>\n",
       "      <td>0.6869</td>\n",
       "      <td>0.2575</td>\n",
       "      <td>0.6638</td>\n",
       "      <td>0.17300</td>\n",
       "    </tr>\n",
       "    <tr>\n",
       "      <th>4</th>\n",
       "      <td>M</td>\n",
       "      <td>20.29</td>\n",
       "      <td>14.34</td>\n",
       "      <td>135.10</td>\n",
       "      <td>1297.0</td>\n",
       "      <td>0.10030</td>\n",
       "      <td>0.13280</td>\n",
       "      <td>0.1980</td>\n",
       "      <td>0.10430</td>\n",
       "      <td>0.1809</td>\n",
       "      <td>...</td>\n",
       "      <td>22.54</td>\n",
       "      <td>16.67</td>\n",
       "      <td>152.20</td>\n",
       "      <td>1575.0</td>\n",
       "      <td>0.1374</td>\n",
       "      <td>0.2050</td>\n",
       "      <td>0.4000</td>\n",
       "      <td>0.1625</td>\n",
       "      <td>0.2364</td>\n",
       "      <td>0.07678</td>\n",
       "    </tr>\n",
       "  </tbody>\n",
       "</table>\n",
       "<p>5 rows × 31 columns</p>\n",
       "</div>"
      ],
      "text/plain": [
       "  diagnosis  radius_mean  texture_mean  perimeter_mean  area_mean  \\\n",
       "0         M        17.99         10.38          122.80     1001.0   \n",
       "1         M        20.57         17.77          132.90     1326.0   \n",
       "2         M        19.69         21.25          130.00     1203.0   \n",
       "3         M        11.42         20.38           77.58      386.1   \n",
       "4         M        20.29         14.34          135.10     1297.0   \n",
       "\n",
       "   smoothness_mean  compactness_mean  concavity_mean  concave points_mean  \\\n",
       "0          0.11840           0.27760          0.3001              0.14710   \n",
       "1          0.08474           0.07864          0.0869              0.07017   \n",
       "2          0.10960           0.15990          0.1974              0.12790   \n",
       "3          0.14250           0.28390          0.2414              0.10520   \n",
       "4          0.10030           0.13280          0.1980              0.10430   \n",
       "\n",
       "   symmetry_mean  ...  radius_worst  texture_worst  perimeter_worst  \\\n",
       "0         0.2419  ...         25.38          17.33           184.60   \n",
       "1         0.1812  ...         24.99          23.41           158.80   \n",
       "2         0.2069  ...         23.57          25.53           152.50   \n",
       "3         0.2597  ...         14.91          26.50            98.87   \n",
       "4         0.1809  ...         22.54          16.67           152.20   \n",
       "\n",
       "   area_worst  smoothness_worst  compactness_worst  concavity_worst  \\\n",
       "0      2019.0            0.1622             0.6656           0.7119   \n",
       "1      1956.0            0.1238             0.1866           0.2416   \n",
       "2      1709.0            0.1444             0.4245           0.4504   \n",
       "3       567.7            0.2098             0.8663           0.6869   \n",
       "4      1575.0            0.1374             0.2050           0.4000   \n",
       "\n",
       "   concave points_worst  symmetry_worst  fractal_dimension_worst  \n",
       "0                0.2654          0.4601                  0.11890  \n",
       "1                0.1860          0.2750                  0.08902  \n",
       "2                0.2430          0.3613                  0.08758  \n",
       "3                0.2575          0.6638                  0.17300  \n",
       "4                0.1625          0.2364                  0.07678  \n",
       "\n",
       "[5 rows x 31 columns]"
      ]
     },
     "execution_count": 5,
     "metadata": {},
     "output_type": "execute_result"
    }
   ],
   "source": [
    "#drop unwanted columns and their associate data\n",
    "data = data.drop(columns = ['id','Unnamed: 32'])\n",
    "data.head()"
   ]
  },
  {
   "cell_type": "code",
   "execution_count": 6,
   "id": "5b47386c",
   "metadata": {},
   "outputs": [
    {
     "name": "stdout",
     "output_type": "stream",
     "text": [
      "<class 'pandas.core.frame.DataFrame'>\n",
      "RangeIndex: 569 entries, 0 to 568\n",
      "Data columns (total 31 columns):\n",
      " #   Column                   Non-Null Count  Dtype  \n",
      "---  ------                   --------------  -----  \n",
      " 0   diagnosis                569 non-null    object \n",
      " 1   radius_mean              569 non-null    float64\n",
      " 2   texture_mean             569 non-null    float64\n",
      " 3   perimeter_mean           569 non-null    float64\n",
      " 4   area_mean                569 non-null    float64\n",
      " 5   smoothness_mean          569 non-null    float64\n",
      " 6   compactness_mean         569 non-null    float64\n",
      " 7   concavity_mean           569 non-null    float64\n",
      " 8   concave points_mean      569 non-null    float64\n",
      " 9   symmetry_mean            569 non-null    float64\n",
      " 10  fractal_dimension_mean   569 non-null    float64\n",
      " 11  radius_se                569 non-null    float64\n",
      " 12  texture_se               569 non-null    float64\n",
      " 13  perimeter_se             569 non-null    float64\n",
      " 14  area_se                  569 non-null    float64\n",
      " 15  smoothness_se            569 non-null    float64\n",
      " 16  compactness_se           569 non-null    float64\n",
      " 17  concavity_se             569 non-null    float64\n",
      " 18  concave points_se        569 non-null    float64\n",
      " 19  symmetry_se              569 non-null    float64\n",
      " 20  fractal_dimension_se     569 non-null    float64\n",
      " 21  radius_worst             569 non-null    float64\n",
      " 22  texture_worst            569 non-null    float64\n",
      " 23  perimeter_worst          569 non-null    float64\n",
      " 24  area_worst               569 non-null    float64\n",
      " 25  smoothness_worst         569 non-null    float64\n",
      " 26  compactness_worst        569 non-null    float64\n",
      " 27  concavity_worst          569 non-null    float64\n",
      " 28  concave points_worst     569 non-null    float64\n",
      " 29  symmetry_worst           569 non-null    float64\n",
      " 30  fractal_dimension_worst  569 non-null    float64\n",
      "dtypes: float64(30), object(1)\n",
      "memory usage: 137.9+ KB\n"
     ]
    }
   ],
   "source": [
    "#check for null values\n",
    "data.info()"
   ]
  },
  {
   "cell_type": "markdown",
   "id": "da23f506",
   "metadata": {},
   "source": [
    "No null values were found."
   ]
  },
  {
   "cell_type": "markdown",
   "id": "3c6a4803",
   "metadata": {},
   "source": [
    "Our target label is stored in the column 'diagnosis'. Here the cells are classified as Benign (B) or Malign(M).\n",
    "Let’s see the distribution of both."
   ]
  },
  {
   "cell_type": "code",
   "execution_count": 7,
   "id": "53a0dc67",
   "metadata": {},
   "outputs": [
    {
     "data": {
      "text/plain": [
       "B    357\n",
       "M    212\n",
       "Name: diagnosis, dtype: int64"
      ]
     },
     "execution_count": 7,
     "metadata": {},
     "output_type": "execute_result"
    }
   ],
   "source": [
    "data['diagnosis'].value_counts()"
   ]
  },
  {
   "cell_type": "code",
   "execution_count": 8,
   "id": "35e09591",
   "metadata": {
    "scrolled": false
   },
   "outputs": [
    {
     "data": {
      "image/png": "[encoded data removed]",
      "text/plain": [
       "<Figure size 1000x600 with 1 Axes>"
      ]
     },
     "metadata": {},
     "output_type": "display_data"
    }
   ],
   "source": [
    "plt.figure(figsize=(10,6))\n",
    "ax = sns.countplot(data=data, x='diagnosis')\n",
    "plt.title('Total Benign(B) vs Malign(M) Cells')\n",
    "ax.bar_label(ax.containers[0], label_type='edge')\n",
    "plt.show()"
   ]
  },
  {
   "cell_type": "markdown",
   "id": "ebf54ab4",
   "metadata": {},
   "source": [
    "From the chart above we can see that the dataset is somewhat unbalanced, meaning that one label tends to have many more values then the other."
   ]
  },
  {
   "cell_type": "markdown",
   "id": "09b36ef4",
   "metadata": {},
   "source": [
    "For the purpose of this prototype, I will not do any more data analysis. Further analysis could include graphical visualization of the different features distreibution, variance, mean average, etc and the degree of correlation they have with each other. This will help one make an informed decision on what features to maintain and ones that should not be maintained. It is known that models with too many features do not necessarily get trained better and they consume more resources.</br>\n",
    "For now one will use all features included in the dataset to implement this prototype."
   ]
  },
  {
   "cell_type": "markdown",
   "id": "7a394a9d",
   "metadata": {},
   "source": [
    "## Data Normalization\n",
    "Let's start by converting our target labels B and M into 0 and 1 respectively. This will make our data consistent in terms of datatypes, one that our model will accept."
   ]
  },
  {
   "cell_type": "code",
   "execution_count": 9,
   "id": "6d2bad9f",
   "metadata": {},
   "outputs": [
    {
     "data": {
      "text/plain": [
       "0    357\n",
       "1    212\n",
       "Name: diagnosis, dtype: int64"
      ]
     },
     "execution_count": 9,
     "metadata": {},
     "output_type": "execute_result"
    }
   ],
   "source": [
    "#Convert our target labels in to numerical values\n",
    "data['diagnosis'].replace(['B', 'M'],[0, 1], inplace=True)\n",
    "\n",
    "#display data table with new target label\n",
    "data.head()\n",
    "\n",
    "#confirm the the totals are correct\n",
    "data['diagnosis'].value_counts()"
   ]
  },
  {
   "cell_type": "markdown",
   "id": "5e083d26",
   "metadata": {},
   "source": [
    "Now we can start creating our train and test sets."
   ]
  },
  {
   "cell_type": "code",
   "execution_count": 10,
   "id": "8abc4a2d",
   "metadata": {},
   "outputs": [
    {
     "name": "stdout",
     "output_type": "stream",
     "text": [
      "data shape: (569, 31) train set shape: (455, 31) test set shape: (114, 31)\n"
     ]
    },
    {
     "data": {
      "text/html": [
       "<div>\n",
       "<style scoped>\n",
       "    .dataframe tbody tr th:only-of-type {\n",
       "        vertical-align: middle;\n",
       "    }\n",
       "\n",
       "    .dataframe tbody tr th {\n",
       "        vertical-align: top;\n",
       "    }\n",
       "\n",
       "    .dataframe thead th {\n",
       "        text-align: right;\n",
       "    }\n",
       "</style>\n",
       "<table border=\"1\" class=\"dataframe\">\n",
       "  <thead>\n",
       "    <tr style=\"text-align: right;\">\n",
       "      <th></th>\n",
       "      <th>count</th>\n",
       "      <th>mean</th>\n",
       "      <th>std</th>\n",
       "      <th>min</th>\n",
       "      <th>25%</th>\n",
       "      <th>50%</th>\n",
       "      <th>75%</th>\n",
       "      <th>max</th>\n",
       "    </tr>\n",
       "  </thead>\n",
       "  <tbody>\n",
       "    <tr>\n",
       "      <th>diagnosis</th>\n",
       "      <td>455.0</td>\n",
       "      <td>0.369231</td>\n",
       "      <td>0.483128</td>\n",
       "      <td>0.000000</td>\n",
       "      <td>0.000000</td>\n",
       "      <td>0.000000</td>\n",
       "      <td>1.000000</td>\n",
       "      <td>1.00000</td>\n",
       "    </tr>\n",
       "    <tr>\n",
       "      <th>radius_mean</th>\n",
       "      <td>455.0</td>\n",
       "      <td>14.038009</td>\n",
       "      <td>3.443339</td>\n",
       "      <td>6.981000</td>\n",
       "      <td>11.665000</td>\n",
       "      <td>13.270000</td>\n",
       "      <td>15.815000</td>\n",
       "      <td>28.11000</td>\n",
       "    </tr>\n",
       "    <tr>\n",
       "      <th>texture_mean</th>\n",
       "      <td>455.0</td>\n",
       "      <td>19.254352</td>\n",
       "      <td>4.356593</td>\n",
       "      <td>9.710000</td>\n",
       "      <td>16.175000</td>\n",
       "      <td>18.800000</td>\n",
       "      <td>21.635000</td>\n",
       "      <td>39.28000</td>\n",
       "    </tr>\n",
       "    <tr>\n",
       "      <th>perimeter_mean</th>\n",
       "      <td>455.0</td>\n",
       "      <td>91.345407</td>\n",
       "      <td>23.756012</td>\n",
       "      <td>43.790000</td>\n",
       "      <td>75.015000</td>\n",
       "      <td>85.790000</td>\n",
       "      <td>104.200000</td>\n",
       "      <td>188.50000</td>\n",
       "    </tr>\n",
       "    <tr>\n",
       "      <th>area_mean</th>\n",
       "      <td>455.0</td>\n",
       "      <td>645.170549</td>\n",
       "      <td>336.691085</td>\n",
       "      <td>143.500000</td>\n",
       "      <td>417.450000</td>\n",
       "      <td>541.800000</td>\n",
       "      <td>785.600000</td>\n",
       "      <td>2499.00000</td>\n",
       "    </tr>\n",
       "    <tr>\n",
       "      <th>smoothness_mean</th>\n",
       "      <td>455.0</td>\n",
       "      <td>0.096414</td>\n",
       "      <td>0.014029</td>\n",
       "      <td>0.065760</td>\n",
       "      <td>0.085925</td>\n",
       "      <td>0.095920</td>\n",
       "      <td>0.105200</td>\n",
       "      <td>0.16340</td>\n",
       "    </tr>\n",
       "    <tr>\n",
       "      <th>compactness_mean</th>\n",
       "      <td>455.0</td>\n",
       "      <td>0.103311</td>\n",
       "      <td>0.052823</td>\n",
       "      <td>0.026500</td>\n",
       "      <td>0.062985</td>\n",
       "      <td>0.089630</td>\n",
       "      <td>0.130400</td>\n",
       "      <td>0.34540</td>\n",
       "    </tr>\n",
       "    <tr>\n",
       "      <th>concavity_mean</th>\n",
       "      <td>455.0</td>\n",
       "      <td>0.087379</td>\n",
       "      <td>0.080251</td>\n",
       "      <td>0.000000</td>\n",
       "      <td>0.028360</td>\n",
       "      <td>0.058350</td>\n",
       "      <td>0.126950</td>\n",
       "      <td>0.42680</td>\n",
       "    </tr>\n",
       "    <tr>\n",
       "      <th>concave points_mean</th>\n",
       "      <td>455.0</td>\n",
       "      <td>0.048025</td>\n",
       "      <td>0.038383</td>\n",
       "      <td>0.000000</td>\n",
       "      <td>0.019685</td>\n",
       "      <td>0.032640</td>\n",
       "      <td>0.068670</td>\n",
       "      <td>0.20120</td>\n",
       "    </tr>\n",
       "    <tr>\n",
       "      <th>symmetry_mean</th>\n",
       "      <td>455.0</td>\n",
       "      <td>0.181355</td>\n",
       "      <td>0.027769</td>\n",
       "      <td>0.106000</td>\n",
       "      <td>0.162000</td>\n",
       "      <td>0.179100</td>\n",
       "      <td>0.195650</td>\n",
       "      <td>0.30400</td>\n",
       "    </tr>\n",
       "    <tr>\n",
       "      <th>fractal_dimension_mean</th>\n",
       "      <td>455.0</td>\n",
       "      <td>0.062909</td>\n",
       "      <td>0.007203</td>\n",
       "      <td>0.050240</td>\n",
       "      <td>0.057685</td>\n",
       "      <td>0.061320</td>\n",
       "      <td>0.066290</td>\n",
       "      <td>0.09744</td>\n",
       "    </tr>\n",
       "    <tr>\n",
       "      <th>radius_se</th>\n",
       "      <td>455.0</td>\n",
       "      <td>0.402223</td>\n",
       "      <td>0.268421</td>\n",
       "      <td>0.111500</td>\n",
       "      <td>0.231250</td>\n",
       "      <td>0.326500</td>\n",
       "      <td>0.477000</td>\n",
       "      <td>2.87300</td>\n",
       "    </tr>\n",
       "    <tr>\n",
       "      <th>texture_se</th>\n",
       "      <td>455.0</td>\n",
       "      <td>1.212677</td>\n",
       "      <td>0.540795</td>\n",
       "      <td>0.360200</td>\n",
       "      <td>0.832400</td>\n",
       "      <td>1.095000</td>\n",
       "      <td>1.472000</td>\n",
       "      <td>3.89600</td>\n",
       "    </tr>\n",
       "    <tr>\n",
       "      <th>perimeter_se</th>\n",
       "      <td>455.0</td>\n",
       "      <td>2.836518</td>\n",
       "      <td>1.956686</td>\n",
       "      <td>0.757000</td>\n",
       "      <td>1.566500</td>\n",
       "      <td>2.310000</td>\n",
       "      <td>3.349500</td>\n",
       "      <td>21.98000</td>\n",
       "    </tr>\n",
       "    <tr>\n",
       "      <th>area_se</th>\n",
       "      <td>455.0</td>\n",
       "      <td>39.252167</td>\n",
       "      <td>40.819821</td>\n",
       "      <td>6.802000</td>\n",
       "      <td>17.670000</td>\n",
       "      <td>24.910000</td>\n",
       "      <td>44.935000</td>\n",
       "      <td>525.60000</td>\n",
       "    </tr>\n",
       "    <tr>\n",
       "      <th>smoothness_se</th>\n",
       "      <td>455.0</td>\n",
       "      <td>0.007115</td>\n",
       "      <td>0.003053</td>\n",
       "      <td>0.002667</td>\n",
       "      <td>0.005241</td>\n",
       "      <td>0.006428</td>\n",
       "      <td>0.008265</td>\n",
       "      <td>0.03113</td>\n",
       "    </tr>\n",
       "    <tr>\n",
       "      <th>compactness_se</th>\n",
       "      <td>455.0</td>\n",
       "      <td>0.025264</td>\n",
       "      <td>0.017980</td>\n",
       "      <td>0.003012</td>\n",
       "      <td>0.012790</td>\n",
       "      <td>0.020170</td>\n",
       "      <td>0.031910</td>\n",
       "      <td>0.13540</td>\n",
       "    </tr>\n",
       "    <tr>\n",
       "      <th>concavity_se</th>\n",
       "      <td>455.0</td>\n",
       "      <td>0.032004</td>\n",
       "      <td>0.032060</td>\n",
       "      <td>0.000000</td>\n",
       "      <td>0.014515</td>\n",
       "      <td>0.025440</td>\n",
       "      <td>0.040775</td>\n",
       "      <td>0.39600</td>\n",
       "    </tr>\n",
       "    <tr>\n",
       "      <th>concave points_se</th>\n",
       "      <td>455.0</td>\n",
       "      <td>0.011817</td>\n",
       "      <td>0.006267</td>\n",
       "      <td>0.000000</td>\n",
       "      <td>0.007605</td>\n",
       "      <td>0.010820</td>\n",
       "      <td>0.014750</td>\n",
       "      <td>0.05279</td>\n",
       "    </tr>\n",
       "    <tr>\n",
       "      <th>symmetry_se</th>\n",
       "      <td>455.0</td>\n",
       "      <td>0.020742</td>\n",
       "      <td>0.008311</td>\n",
       "      <td>0.007882</td>\n",
       "      <td>0.015210</td>\n",
       "      <td>0.018970</td>\n",
       "      <td>0.023835</td>\n",
       "      <td>0.07895</td>\n",
       "    </tr>\n",
       "    <tr>\n",
       "      <th>fractal_dimension_se</th>\n",
       "      <td>455.0</td>\n",
       "      <td>0.003811</td>\n",
       "      <td>0.002761</td>\n",
       "      <td>0.000895</td>\n",
       "      <td>0.002262</td>\n",
       "      <td>0.003131</td>\n",
       "      <td>0.004469</td>\n",
       "      <td>0.02984</td>\n",
       "    </tr>\n",
       "    <tr>\n",
       "      <th>radius_worst</th>\n",
       "      <td>455.0</td>\n",
       "      <td>16.143804</td>\n",
       "      <td>4.650927</td>\n",
       "      <td>7.930000</td>\n",
       "      <td>13.040000</td>\n",
       "      <td>14.910000</td>\n",
       "      <td>18.655000</td>\n",
       "      <td>33.13000</td>\n",
       "    </tr>\n",
       "    <tr>\n",
       "      <th>texture_worst</th>\n",
       "      <td>455.0</td>\n",
       "      <td>25.606637</td>\n",
       "      <td>6.106501</td>\n",
       "      <td>12.020000</td>\n",
       "      <td>21.090000</td>\n",
       "      <td>25.260000</td>\n",
       "      <td>29.560000</td>\n",
       "      <td>49.54000</td>\n",
       "    </tr>\n",
       "    <tr>\n",
       "      <th>perimeter_worst</th>\n",
       "      <td>455.0</td>\n",
       "      <td>106.279846</td>\n",
       "      <td>32.226492</td>\n",
       "      <td>50.410000</td>\n",
       "      <td>84.035000</td>\n",
       "      <td>97.190000</td>\n",
       "      <td>125.050000</td>\n",
       "      <td>229.30000</td>\n",
       "    </tr>\n",
       "    <tr>\n",
       "      <th>area_worst</th>\n",
       "      <td>455.0</td>\n",
       "      <td>862.649011</td>\n",
       "      <td>527.767662</td>\n",
       "      <td>185.200000</td>\n",
       "      <td>514.600000</td>\n",
       "      <td>677.900000</td>\n",
       "      <td>1060.000000</td>\n",
       "      <td>3234.00000</td>\n",
       "    </tr>\n",
       "    <tr>\n",
       "      <th>smoothness_worst</th>\n",
       "      <td>455.0</td>\n",
       "      <td>0.132579</td>\n",
       "      <td>0.022497</td>\n",
       "      <td>0.084090</td>\n",
       "      <td>0.117150</td>\n",
       "      <td>0.131200</td>\n",
       "      <td>0.146400</td>\n",
       "      <td>0.21840</td>\n",
       "    </tr>\n",
       "    <tr>\n",
       "      <th>compactness_worst</th>\n",
       "      <td>455.0</td>\n",
       "      <td>0.250942</td>\n",
       "      <td>0.153749</td>\n",
       "      <td>0.043270</td>\n",
       "      <td>0.141800</td>\n",
       "      <td>0.211300</td>\n",
       "      <td>0.339500</td>\n",
       "      <td>0.93790</td>\n",
       "    </tr>\n",
       "    <tr>\n",
       "      <th>concavity_worst</th>\n",
       "      <td>455.0</td>\n",
       "      <td>0.268792</td>\n",
       "      <td>0.208942</td>\n",
       "      <td>0.000000</td>\n",
       "      <td>0.108800</td>\n",
       "      <td>0.222000</td>\n",
       "      <td>0.381900</td>\n",
       "      <td>1.25200</td>\n",
       "    </tr>\n",
       "    <tr>\n",
       "      <th>concave points_worst</th>\n",
       "      <td>455.0</td>\n",
       "      <td>0.113327</td>\n",
       "      <td>0.065144</td>\n",
       "      <td>0.000000</td>\n",
       "      <td>0.063635</td>\n",
       "      <td>0.098610</td>\n",
       "      <td>0.161350</td>\n",
       "      <td>0.29100</td>\n",
       "    </tr>\n",
       "    <tr>\n",
       "      <th>symmetry_worst</th>\n",
       "      <td>455.0</td>\n",
       "      <td>0.290999</td>\n",
       "      <td>0.062407</td>\n",
       "      <td>0.156500</td>\n",
       "      <td>0.250550</td>\n",
       "      <td>0.282900</td>\n",
       "      <td>0.319700</td>\n",
       "      <td>0.66380</td>\n",
       "    </tr>\n",
       "    <tr>\n",
       "      <th>fractal_dimension_worst</th>\n",
       "      <td>455.0</td>\n",
       "      <td>0.083870</td>\n",
       "      <td>0.017488</td>\n",
       "      <td>0.055040</td>\n",
       "      <td>0.071835</td>\n",
       "      <td>0.079570</td>\n",
       "      <td>0.091860</td>\n",
       "      <td>0.17300</td>\n",
       "    </tr>\n",
       "  </tbody>\n",
       "</table>\n",
       "</div>"
      ],
      "text/plain": [
       "                         count        mean         std         min  \\\n",
       "diagnosis                455.0    0.369231    0.483128    0.000000   \n",
       "radius_mean              455.0   14.038009    3.443339    6.981000   \n",
       "texture_mean             455.0   19.254352    4.356593    9.710000   \n",
       "perimeter_mean           455.0   91.345407   23.756012   43.790000   \n",
       "area_mean                455.0  645.170549  336.691085  143.500000   \n",
       "smoothness_mean          455.0    0.096414    0.014029    0.065760   \n",
       "compactness_mean         455.0    0.103311    0.052823    0.026500   \n",
       "concavity_mean           455.0    0.087379    0.080251    0.000000   \n",
       "concave points_mean      455.0    0.048025    0.038383    0.000000   \n",
       "symmetry_mean            455.0    0.181355    0.027769    0.106000   \n",
       "fractal_dimension_mean   455.0    0.062909    0.007203    0.050240   \n",
       "radius_se                455.0    0.402223    0.268421    0.111500   \n",
       "texture_se               455.0    1.212677    0.540795    0.360200   \n",
       "perimeter_se             455.0    2.836518    1.956686    0.757000   \n",
       "area_se                  455.0   39.252167   40.819821    6.802000   \n",
       "smoothness_se            455.0    0.007115    0.003053    0.002667   \n",
       "compactness_se           455.0    0.025264    0.017980    0.003012   \n",
       "concavity_se             455.0    0.032004    0.032060    0.000000   \n",
       "concave points_se        455.0    0.011817    0.006267    0.000000   \n",
       "symmetry_se              455.0    0.020742    0.008311    0.007882   \n",
       "fractal_dimension_se     455.0    0.003811    0.002761    0.000895   \n",
       "radius_worst             455.0   16.143804    4.650927    7.930000   \n",
       "texture_worst            455.0   25.606637    6.106501   12.020000   \n",
       "perimeter_worst          455.0  106.279846   32.226492   50.410000   \n",
       "area_worst               455.0  862.649011  527.767662  185.200000   \n",
       "smoothness_worst         455.0    0.132579    0.022497    0.084090   \n",
       "compactness_worst        455.0    0.250942    0.153749    0.043270   \n",
       "concavity_worst          455.0    0.268792    0.208942    0.000000   \n",
       "concave points_worst     455.0    0.113327    0.065144    0.000000   \n",
       "symmetry_worst           455.0    0.290999    0.062407    0.156500   \n",
       "fractal_dimension_worst  455.0    0.083870    0.017488    0.055040   \n",
       "\n",
       "                                25%         50%          75%         max  \n",
       "diagnosis                  0.000000    0.000000     1.000000     1.00000  \n",
       "radius_mean               11.665000   13.270000    15.815000    28.11000  \n",
       "texture_mean              16.175000   18.800000    21.635000    39.28000  \n",
       "perimeter_mean            75.015000   85.790000   104.200000   188.50000  \n",
       "area_mean                417.450000  541.800000   785.600000  2499.00000  \n",
       "smoothness_mean            0.085925    0.095920     0.105200     0.16340  \n",
       "compactness_mean           0.062985    0.089630     0.130400     0.34540  \n",
       "concavity_mean             0.028360    0.058350     0.126950     0.42680  \n",
       "concave points_mean        0.019685    0.032640     0.068670     0.20120  \n",
       "symmetry_mean              0.162000    0.179100     0.195650     0.30400  \n",
       "fractal_dimension_mean     0.057685    0.061320     0.066290     0.09744  \n",
       "radius_se                  0.231250    0.326500     0.477000     2.87300  \n",
       "texture_se                 0.832400    1.095000     1.472000     3.89600  \n",
       "perimeter_se               1.566500    2.310000     3.349500    21.98000  \n",
       "area_se                   17.670000   24.910000    44.935000   525.60000  \n",
       "smoothness_se              0.005241    0.006428     0.008265     0.03113  \n",
       "compactness_se             0.012790    0.020170     0.031910     0.13540  \n",
       "concavity_se               0.014515    0.025440     0.040775     0.39600  \n",
       "concave points_se          0.007605    0.010820     0.014750     0.05279  \n",
       "symmetry_se                0.015210    0.018970     0.023835     0.07895  \n",
       "fractal_dimension_se       0.002262    0.003131     0.004469     0.02984  \n",
       "radius_worst              13.040000   14.910000    18.655000    33.13000  \n",
       "texture_worst             21.090000   25.260000    29.560000    49.54000  \n",
       "perimeter_worst           84.035000   97.190000   125.050000   229.30000  \n",
       "area_worst               514.600000  677.900000  1060.000000  3234.00000  \n",
       "smoothness_worst           0.117150    0.131200     0.146400     0.21840  \n",
       "compactness_worst          0.141800    0.211300     0.339500     0.93790  \n",
       "concavity_worst            0.108800    0.222000     0.381900     1.25200  \n",
       "concave points_worst       0.063635    0.098610     0.161350     0.29100  \n",
       "symmetry_worst             0.250550    0.282900     0.319700     0.66380  \n",
       "fractal_dimension_worst    0.071835    0.079570     0.091860     0.17300  "
      ]
     },
     "execution_count": 10,
     "metadata": {},
     "output_type": "execute_result"
    }
   ],
   "source": [
    "#split data into train and test sets. 80% train, 20% test.\n",
    "train_data = data.sample(frac=0.8, random_state=0)\n",
    "test_data = data.drop(train_data.index)\n",
    "\n",
    "print('data shape:',data.shape,'train set shape:', train_data.shape,'test set shape:', test_data.shape)\n",
    "train_data.describe().transpose()"
   ]
  },
  {
   "cell_type": "code",
   "execution_count": 11,
   "id": "913543ad",
   "metadata": {},
   "outputs": [
    {
     "name": "stdout",
     "output_type": "stream",
     "text": [
      "train label shape: (455,) test label shape: (114,)\n"
     ]
    }
   ],
   "source": [
    "#create copies of our sets to manipulate in to our target albel sets\n",
    "train_features = train_data.copy()\n",
    "test_features = test_data.copy()\n",
    "train_labels = train_features.pop('diagnosis')\n",
    "test_labels = test_features.pop('diagnosis')\n",
    "print('train label shape:', train_labels.shape,'test label shape:', test_labels.shape)"
   ]
  },
  {
   "cell_type": "code",
   "execution_count": 12,
   "id": "f75b8ff3",
   "metadata": {},
   "outputs": [],
   "source": [
    "#normalize our data in to tensors for use with the Keras API\n",
    "\n",
    "#initialize our normalizer method\n",
    "normalizer_train_data = preprocessing.Normalization()\n",
    "normalizer_test_data = preprocessing.Normalization()\n",
    "\n",
    "#adapt our data\n",
    "normalizer_train_data.adapt(np.array(train_features))\n",
    "normalizer_test_data.adapt(np.array(test_features))\n",
    "\n",
    "#normalize our train and test set\n",
    "x_train = normalizer_train_data(np.array(train_features))\n",
    "x_test = normalizer_test_data(np.array(test_features))\n",
    "\n",
    "#normalize our train labels set\n",
    "y_train = np.asarray(train_labels).astype('float64')\n",
    "y_test = np.asarray(test_labels).astype('float64')"
   ]
  },
  {
   "cell_type": "code",
   "execution_count": 13,
   "id": "3827f545",
   "metadata": {},
   "outputs": [
    {
     "name": "stdout",
     "output_type": "stream",
     "text": [
      "Not normalized train data: [[1.340e+01 2.052e+01 8.864e+01 ... 2.051e-01 3.585e-01 1.109e-01]\n",
      " [1.321e+01 2.525e+01 8.410e+01 ... 6.005e-02 2.444e-01 6.788e-02]\n",
      " [1.402e+01 1.566e+01 8.959e+01 ... 8.216e-02 2.136e-01 6.710e-02]\n",
      " ...\n",
      " [1.425e+01 2.172e+01 9.363e+01 ... 1.447e-01 3.591e-01 1.014e-01]\n",
      " [1.234e+01 2.686e+01 8.115e+01 ... 1.459e-01 3.215e-01 1.205e-01]\n",
      " [1.305e+01 1.931e+01 8.261e+01 ... 1.111e-02 2.439e-01 6.289e-02]]\n",
      "Normalized train data [[-0.18549185  0.2908339  -0.11400868 ...  1.4103115   1.0828147\n",
      "   1.5473167 ]\n",
      " [-0.24073145  1.3777397  -0.30532858 ... -0.8187316  -0.74751353\n",
      "  -0.9153725 ]\n",
      " [-0.00523563 -0.8259448  -0.07397491 ... -0.47895807 -1.2415899\n",
      "  -0.9600234 ]\n",
      " ...\n",
      " [ 0.06163339  0.5665814   0.09627452 ...  0.4821199   1.0924398\n",
      "   1.0034873 ]\n",
      " [-0.49367124  1.7477014  -0.42964423 ...  0.50056064  0.48928148\n",
      "   2.0968707 ]\n",
      " [-0.2872491   0.01278797 -0.3681185  ... -1.5708127  -0.7555342\n",
      "  -1.201026  ]]\n"
     ]
    },
    {
     "data": {
      "text/plain": [
       "TensorShape([455, 30])"
      ]
     },
     "execution_count": 13,
     "metadata": {},
     "output_type": "execute_result"
    }
   ],
   "source": [
    "#check our normalized data\n",
    "print('Not normalized train data:', np.array(train_features))\n",
    "print('Normalized train data', x_train.numpy())\n",
    "x_train.shape"
   ]
  },
  {
   "cell_type": "markdown",
   "id": "93b38b71",
   "metadata": {},
   "source": [
    "## Building the Prototype\n",
    "One started by defining the model layers and units we will use. Since this is our first model attempt, we will start with a small network first, using fewer layers and units. We will start by using the relu activation and dense type layers since it has been found a good choice for this type of input data (vectors with scalar labels)\n"
   ]
  },
  {
   "cell_type": "code",
   "execution_count": 14,
   "id": "32e13fe2",
   "metadata": {},
   "outputs": [],
   "source": [
    "#model definition\n",
    "model = models.Sequential()\n",
    "model.add(keras.Input(shape=(30)))\n",
    "model.add(layers.Dense(16, activation = 'relu'))\n",
    "model.add(layers.Dense(16, activation = 'relu'))\n",
    "model.add(layers.Dense(1, activation = 'sigmoid'))"
   ]
  },
  {
   "cell_type": "markdown",
   "id": "58ed8e08",
   "metadata": {},
   "source": [
    "Next, we need to compile our model. For that we need to choose a loss function and a corresponding optimizer. There are some options available but for this prototype we will use as optimizer rmsprop and loss function binary_crossentropy. Accuracy will be used as a metric. Other metrics, optimizer and loss function will be considered for the full model release."
   ]
  },
  {
   "cell_type": "code",
   "execution_count": 15,
   "id": "aeb5fd54",
   "metadata": {},
   "outputs": [
    {
     "name": "stdout",
     "output_type": "stream",
     "text": [
      "Model: \"sequential\"\n",
      "_________________________________________________________________\n",
      " Layer (type)                Output Shape              Param #   \n",
      "=================================================================\n",
      " dense (Dense)               (None, 16)                496       \n",
      "                                                                 \n",
      " dense_1 (Dense)             (None, 16)                272       \n",
      "                                                                 \n",
      " dense_2 (Dense)             (None, 1)                 17        \n",
      "                                                                 \n",
      "=================================================================\n",
      "Total params: 785\n",
      "Trainable params: 785\n",
      "Non-trainable params: 0\n",
      "_________________________________________________________________\n"
     ]
    }
   ],
   "source": [
    "#model compilation\n",
    "model.compile(optimizer='rmsprop',\n",
    "             loss='binary_crossentropy',\n",
    "              metrics=['accuracy'])\n",
    "              #metrics=['accuracy',keras.metrics.Precision(name='precision'), keras.metrics.Recall(name='recall')])\n",
    "\n",
    "#model summary\n",
    "model.summary()"
   ]
  },
  {
   "cell_type": "markdown",
   "id": "6956bdc2",
   "metadata": {},
   "source": [
    "It is necessary to set aside some samples to work as a validation set. A model should never be evaluated in its training set. This validation set will be used to monitor the accuracy of the model during training. Let's set apart 100 samples for this purpose from the original training set."
   ]
  },
  {
   "cell_type": "code",
   "execution_count": 16,
   "id": "36ab4d66",
   "metadata": {},
   "outputs": [
    {
     "name": "stdout",
     "output_type": "stream",
     "text": [
      "validation set shape: (100, 30)\n",
      "partial training set shape: (355, 30)\n"
     ]
    }
   ],
   "source": [
    "#setting aside samples for a validation set using our training set\n",
    "x_val = x_train[:100]\n",
    "partial_x_train = x_train[100:]\n",
    "y_val = y_train[:100]\n",
    "partial_y_train = y_train[100:]\n",
    "\n",
    "print('validation set shape:',x_val.shape)\n",
    "print('partial training set shape:',partial_x_train.shape)"
   ]
  },
  {
   "cell_type": "markdown",
   "id": "5b08ef7a",
   "metadata": {},
   "source": [
    "Now it’s time to start training our model. We need to choose the number of epochs, mini batch size, starting with 20 and 512 respectively. We will monitor our validation and training loss by passing the training and validation sets to our model fit. The history object will store our training data so we can then use it to plot graphs and extract values for our analysis."
   ]
  },
  {
   "cell_type": "code",
   "execution_count": 17,
   "id": "d9daa309",
   "metadata": {},
   "outputs": [
    {
     "name": "stdout",
     "output_type": "stream",
     "text": [
      "Epoch 1/30\n",
      "18/18 [==============================] - 1s 8ms/step - loss: 0.6674 - accuracy: 0.6563 - val_loss: 0.6072 - val_accuracy: 0.6300\n",
      "Epoch 2/30\n",
      "18/18 [==============================] - 0s 2ms/step - loss: 0.5114 - accuracy: 0.7493 - val_loss: 0.4717 - val_accuracy: 0.7600\n",
      "Epoch 3/30\n",
      "18/18 [==============================] - 0s 2ms/step - loss: 0.4055 - accuracy: 0.8479 - val_loss: 0.3601 - val_accuracy: 0.8800\n",
      "Epoch 4/30\n",
      "18/18 [==============================] - 0s 2ms/step - loss: 0.3236 - accuracy: 0.9014 - val_loss: 0.2764 - val_accuracy: 0.9200\n",
      "Epoch 5/30\n",
      "18/18 [==============================] - 0s 2ms/step - loss: 0.2629 - accuracy: 0.9155 - val_loss: 0.2201 - val_accuracy: 0.9400\n",
      "Epoch 6/30\n",
      "18/18 [==============================] - 0s 2ms/step - loss: 0.2168 - accuracy: 0.9324 - val_loss: 0.1782 - val_accuracy: 0.9400\n",
      "Epoch 7/30\n",
      "18/18 [==============================] - 0s 2ms/step - loss: 0.1830 - accuracy: 0.9408 - val_loss: 0.1491 - val_accuracy: 0.9300\n",
      "Epoch 8/30\n",
      "18/18 [==============================] - 0s 2ms/step - loss: 0.1567 - accuracy: 0.9549 - val_loss: 0.1277 - val_accuracy: 0.9500\n",
      "Epoch 9/30\n",
      "18/18 [==============================] - 0s 2ms/step - loss: 0.1382 - accuracy: 0.9549 - val_loss: 0.1131 - val_accuracy: 0.9500\n",
      "Epoch 10/30\n",
      "18/18 [==============================] - 0s 2ms/step - loss: 0.1240 - accuracy: 0.9606 - val_loss: 0.1030 - val_accuracy: 0.9400\n",
      "Epoch 11/30\n",
      "18/18 [==============================] - 0s 2ms/step - loss: 0.1135 - accuracy: 0.9577 - val_loss: 0.0961 - val_accuracy: 0.9400\n",
      "Epoch 12/30\n",
      "18/18 [==============================] - 0s 2ms/step - loss: 0.1058 - accuracy: 0.9606 - val_loss: 0.0909 - val_accuracy: 0.9400\n",
      "Epoch 13/30\n",
      "18/18 [==============================] - 0s 2ms/step - loss: 0.0991 - accuracy: 0.9606 - val_loss: 0.0863 - val_accuracy: 0.9300\n",
      "Epoch 14/30\n",
      "18/18 [==============================] - 0s 2ms/step - loss: 0.0941 - accuracy: 0.9634 - val_loss: 0.0843 - val_accuracy: 0.9400\n",
      "Epoch 15/30\n",
      "18/18 [==============================] - 0s 2ms/step - loss: 0.0902 - accuracy: 0.9634 - val_loss: 0.0822 - val_accuracy: 0.9400\n",
      "Epoch 16/30\n",
      "18/18 [==============================] - 0s 2ms/step - loss: 0.0864 - accuracy: 0.9690 - val_loss: 0.0806 - val_accuracy: 0.9400\n",
      "Epoch 17/30\n",
      "18/18 [==============================] - 0s 2ms/step - loss: 0.0830 - accuracy: 0.9718 - val_loss: 0.0804 - val_accuracy: 0.9400\n",
      "Epoch 18/30\n",
      "18/18 [==============================] - 0s 2ms/step - loss: 0.0805 - accuracy: 0.9775 - val_loss: 0.0786 - val_accuracy: 0.9500\n",
      "Epoch 19/30\n",
      "18/18 [==============================] - 0s 2ms/step - loss: 0.0776 - accuracy: 0.9775 - val_loss: 0.0781 - val_accuracy: 0.9500\n",
      "Epoch 20/30\n",
      "18/18 [==============================] - 0s 2ms/step - loss: 0.0752 - accuracy: 0.9775 - val_loss: 0.0771 - val_accuracy: 0.9500\n",
      "Epoch 21/30\n",
      "18/18 [==============================] - 0s 2ms/step - loss: 0.0729 - accuracy: 0.9775 - val_loss: 0.0765 - val_accuracy: 0.9500\n",
      "Epoch 22/30\n",
      "18/18 [==============================] - 0s 2ms/step - loss: 0.0714 - accuracy: 0.9775 - val_loss: 0.0759 - val_accuracy: 0.9500\n",
      "Epoch 23/30\n",
      "18/18 [==============================] - 0s 2ms/step - loss: 0.0690 - accuracy: 0.9775 - val_loss: 0.0760 - val_accuracy: 0.9500\n",
      "Epoch 24/30\n",
      "18/18 [==============================] - 0s 2ms/step - loss: 0.0674 - accuracy: 0.9775 - val_loss: 0.0757 - val_accuracy: 0.9500\n",
      "Epoch 25/30\n",
      "18/18 [==============================] - 0s 2ms/step - loss: 0.0657 - accuracy: 0.9775 - val_loss: 0.0762 - val_accuracy: 0.9500\n",
      "Epoch 26/30\n",
      "18/18 [==============================] - 0s 2ms/step - loss: 0.0635 - accuracy: 0.9803 - val_loss: 0.0752 - val_accuracy: 0.9500\n",
      "Epoch 27/30\n",
      "18/18 [==============================] - 0s 2ms/step - loss: 0.0622 - accuracy: 0.9803 - val_loss: 0.0749 - val_accuracy: 0.9500\n",
      "Epoch 28/30\n",
      "18/18 [==============================] - 0s 2ms/step - loss: 0.0610 - accuracy: 0.9803 - val_loss: 0.0757 - val_accuracy: 0.9500\n",
      "Epoch 29/30\n",
      "18/18 [==============================] - 0s 2ms/step - loss: 0.0599 - accuracy: 0.9803 - val_loss: 0.0749 - val_accuracy: 0.9500\n",
      "Epoch 30/30\n",
      "18/18 [==============================] - 0s 2ms/step - loss: 0.0583 - accuracy: 0.9803 - val_loss: 0.0749 - val_accuracy: 0.9500\n"
     ]
    }
   ],
   "source": [
    "#Training the model\n",
    "history = model.fit(partial_x_train, \n",
    "                    partial_y_train,\n",
    "                    epochs = 30,\n",
    "                    batch_size = 20,\n",
    "                    validation_data = (x_val, y_val)) "
   ]
  },
  {
   "cell_type": "markdown",
   "id": "01b10219",
   "metadata": {},
   "source": [
    "Now that our model is trained we can use matplot to help us plot the data in a visual representative way, that is, our loss and accuracy."
   ]
  },
  {
   "cell_type": "code",
   "execution_count": 18,
   "id": "bac580b1",
   "metadata": {},
   "outputs": [
    {
     "data": {
      "text/plain": [
       "[0.6673529148101807,\n",
       " 0.5114299654960632,\n",
       " 0.40545663237571716,\n",
       " 0.3236373960971832,\n",
       " 0.2628702223300934,\n",
       " 0.2168298363685608,\n",
       " 0.1829802393913269,\n",
       " 0.15673427283763885,\n",
       " 0.13818715512752533,\n",
       " 0.12403956800699234,\n",
       " 0.11353156715631485,\n",
       " 0.10577141493558884,\n",
       " 0.0991121232509613,\n",
       " 0.09407375752925873,\n",
       " 0.09018491208553314,\n",
       " 0.08635105937719345,\n",
       " 0.08296473324298859,\n",
       " 0.08053088933229446,\n",
       " 0.07759791612625122,\n",
       " 0.07517623156309128,\n",
       " 0.0729493722319603,\n",
       " 0.0714142844080925,\n",
       " 0.06898599863052368,\n",
       " 0.06738216429948807,\n",
       " 0.06568541377782822,\n",
       " 0.06349194794893265,\n",
       " 0.06219387426972389,\n",
       " 0.0609700046479702,\n",
       " 0.05986064672470093,\n",
       " 0.058307893574237823]"
      ]
     },
     "execution_count": 18,
     "metadata": {},
     "output_type": "execute_result"
    }
   ],
   "source": [
    "# get our dictionary keys\n",
    "history_dict = history.history\n",
    "history_dict.keys()\n",
    "\n",
    "#get our loss values from the dictionary\n",
    "history_dict['loss']"
   ]
  },
  {
   "cell_type": "code",
   "execution_count": 19,
   "id": "244a28dd",
   "metadata": {},
   "outputs": [
    {
     "data": {
      "text/plain": [
       "[0.6071799993515015,\n",
       " 0.4716753363609314,\n",
       " 0.3601042926311493,\n",
       " 0.2763906717300415,\n",
       " 0.22008174657821655,\n",
       " 0.1782262623310089,\n",
       " 0.14911910891532898,\n",
       " 0.1276574283838272,\n",
       " 0.11314403265714645,\n",
       " 0.10299957543611526,\n",
       " 0.09605102241039276,\n",
       " 0.09086782485246658,\n",
       " 0.08626747131347656,\n",
       " 0.08432193845510483,\n",
       " 0.08224578946828842,\n",
       " 0.08062651753425598,\n",
       " 0.0804009810090065,\n",
       " 0.07864056527614594,\n",
       " 0.07809692621231079,\n",
       " 0.07714838534593582,\n",
       " 0.07654538005590439,\n",
       " 0.07593069970607758,\n",
       " 0.07601829618215561,\n",
       " 0.07565247267484665,\n",
       " 0.07624847441911697,\n",
       " 0.0752486065030098,\n",
       " 0.07493890821933746,\n",
       " 0.07567189633846283,\n",
       " 0.0748506709933281,\n",
       " 0.07487449795007706]"
      ]
     },
     "execution_count": 19,
     "metadata": {},
     "output_type": "execute_result"
    }
   ],
   "source": [
    "#get our validation loss\n",
    "history_dict['val_loss']"
   ]
  },
  {
   "cell_type": "code",
   "execution_count": 20,
   "id": "adb330b2",
   "metadata": {},
   "outputs": [],
   "source": [
    "#function used to plot train and validation loss\n",
    "def plot_train_val_loss(train_loss, validation_loss):\n",
    "    #map our values\n",
    "    loss = train_loss\n",
    "    val_loss = validation_loss\n",
    "\n",
    "    #define x axis\n",
    "    epochs = range(1, len(loss) + 1)\n",
    "\n",
    "    #define graph legend\n",
    "    blue_dots = 'bo'\n",
    "    solid_blue_line = 'b'\n",
    "\n",
    "    #plot our graph\n",
    "    plt.plot(epochs, loss, blue_dots, label = 'Training loss')\n",
    "    plt.plot(epochs, val_loss, solid_blue_line, label = 'Validation loss')\n",
    "    plt.title('Training and validation loss')\n",
    "    plt.xlabel('Epochs')\n",
    "    plt.ylabel('Loss')\n",
    "    plt.legend()\n",
    "    plt.show()\n",
    "    \n",
    "    return val_loss"
   ]
  },
  {
   "cell_type": "code",
   "execution_count": 21,
   "id": "d8c4cf78",
   "metadata": {},
   "outputs": [
    {
     "data": {
      "image/png": "[encoded data removed]",
      "text/plain": [
       "<Figure size 640x480 with 1 Axes>"
      ]
     },
     "metadata": {},
     "output_type": "display_data"
    },
    {
     "data": {
      "text/plain": [
       "[0.6071799993515015,\n",
       " 0.4716753363609314,\n",
       " 0.3601042926311493,\n",
       " 0.2763906717300415,\n",
       " 0.22008174657821655,\n",
       " 0.1782262623310089,\n",
       " 0.14911910891532898,\n",
       " 0.1276574283838272,\n",
       " 0.11314403265714645,\n",
       " 0.10299957543611526,\n",
       " 0.09605102241039276,\n",
       " 0.09086782485246658,\n",
       " 0.08626747131347656,\n",
       " 0.08432193845510483,\n",
       " 0.08224578946828842,\n",
       " 0.08062651753425598,\n",
       " 0.0804009810090065,\n",
       " 0.07864056527614594,\n",
       " 0.07809692621231079,\n",
       " 0.07714838534593582,\n",
       " 0.07654538005590439,\n",
       " 0.07593069970607758,\n",
       " 0.07601829618215561,\n",
       " 0.07565247267484665,\n",
       " 0.07624847441911697,\n",
       " 0.0752486065030098,\n",
       " 0.07493890821933746,\n",
       " 0.07567189633846283,\n",
       " 0.0748506709933281,\n",
       " 0.07487449795007706]"
      ]
     },
     "execution_count": 21,
     "metadata": {},
     "output_type": "execute_result"
    }
   ],
   "source": [
    "#plot our validation and training loss\n",
    "plot_train_val_loss(history_dict['loss'],history_dict['val_loss'])"
   ]
  },
  {
   "cell_type": "code",
   "execution_count": 22,
   "id": "240f32e4",
   "metadata": {},
   "outputs": [
    {
     "data": {
      "text/plain": [
       "[0.6563380360603333,\n",
       " 0.7492957711219788,\n",
       " 0.8478873372077942,\n",
       " 0.9014084339141846,\n",
       " 0.9154929518699646,\n",
       " 0.9323943853378296,\n",
       " 0.9408450722694397,\n",
       " 0.9549295902252197,\n",
       " 0.9549295902252197,\n",
       " 0.9605633616447449,\n",
       " 0.9577465057373047,\n",
       " 0.9605633616447449,\n",
       " 0.9605633616447449,\n",
       " 0.9633802771568298,\n",
       " 0.9633802771568298,\n",
       " 0.9690141081809998,\n",
       " 0.9718309640884399,\n",
       " 0.9774647951126099,\n",
       " 0.9774647951126099,\n",
       " 0.9774647951126099,\n",
       " 0.9774647951126099,\n",
       " 0.9774647951126099,\n",
       " 0.9774647951126099,\n",
       " 0.9774647951126099,\n",
       " 0.9774647951126099,\n",
       " 0.9802817106246948,\n",
       " 0.9802817106246948,\n",
       " 0.9802817106246948,\n",
       " 0.9802817106246948,\n",
       " 0.9802817106246948]"
      ]
     },
     "execution_count": 22,
     "metadata": {},
     "output_type": "execute_result"
    }
   ],
   "source": [
    "#get accuracy values\n",
    "history_dict['accuracy']"
   ]
  },
  {
   "cell_type": "code",
   "execution_count": 23,
   "id": "76d36a9e",
   "metadata": {},
   "outputs": [
    {
     "data": {
      "text/plain": [
       "[0.6299999952316284,\n",
       " 0.7599999904632568,\n",
       " 0.8799999952316284,\n",
       " 0.9200000166893005,\n",
       " 0.9399999976158142,\n",
       " 0.9399999976158142,\n",
       " 0.9300000071525574,\n",
       " 0.949999988079071,\n",
       " 0.949999988079071,\n",
       " 0.9399999976158142,\n",
       " 0.9399999976158142,\n",
       " 0.9399999976158142,\n",
       " 0.9300000071525574,\n",
       " 0.9399999976158142,\n",
       " 0.9399999976158142,\n",
       " 0.9399999976158142,\n",
       " 0.9399999976158142,\n",
       " 0.949999988079071,\n",
       " 0.949999988079071,\n",
       " 0.949999988079071,\n",
       " 0.949999988079071,\n",
       " 0.949999988079071,\n",
       " 0.949999988079071,\n",
       " 0.949999988079071,\n",
       " 0.949999988079071,\n",
       " 0.949999988079071,\n",
       " 0.949999988079071,\n",
       " 0.949999988079071,\n",
       " 0.949999988079071,\n",
       " 0.949999988079071]"
      ]
     },
     "execution_count": 23,
     "metadata": {},
     "output_type": "execute_result"
    }
   ],
   "source": [
    "#get validation accuracy values\n",
    "history_dict['val_accuracy']"
   ]
  },
  {
   "cell_type": "code",
   "execution_count": 24,
   "id": "4b0108c1",
   "metadata": {},
   "outputs": [],
   "source": [
    "#function used to plot our training and validation accuracy\n",
    "def plot_train_val_accuracy(train_acc,validation_acc):\n",
    "    plt.clf()\n",
    "\n",
    "    acc = train_acc\n",
    "    val_acc = validation_acc\n",
    "\n",
    "    epochs = range(1, len(acc) + 1)\n",
    "\n",
    "    blue_dots = 'bo'\n",
    "    solid_blue_line = 'b'\n",
    "\n",
    "    plt.plot(epochs, acc, blue_dots, label = 'Training acc')\n",
    "    plt.plot(epochs, val_acc, solid_blue_line, label = 'Validation acc')\n",
    "    plt.title('Training and validation acc')\n",
    "    plt.xlabel('Epochs')\n",
    "    plt.ylabel('Accuracy')\n",
    "    plt.legend()\n",
    "    plt.show()"
   ]
  },
  {
   "cell_type": "code",
   "execution_count": 25,
   "id": "c555a200",
   "metadata": {},
   "outputs": [
    {
     "data": {
      "image/png": "[encoded data removed]",
      "text/plain": [
       "<Figure size 640x480 with 1 Axes>"
      ]
     },
     "metadata": {},
     "output_type": "display_data"
    }
   ],
   "source": [
    "#plot our training and validation accuracy\n",
    "plot_train_val_accuracy(history_dict['accuracy'],history_dict['val_accuracy'])"
   ]
  },
  {
   "cell_type": "code",
   "execution_count": 26,
   "id": "33cfea34",
   "metadata": {},
   "outputs": [
    {
     "name": "stdout",
     "output_type": "stream",
     "text": [
      "29 epochs\n"
     ]
    }
   ],
   "source": [
    "#optimal epoch\n",
    "print(np.argmin(history_dict['val_loss'])+1, 'epochs')"
   ]
  },
  {
   "cell_type": "markdown",
   "id": "b5c08570",
   "metadata": {},
   "source": [
    "Now that we know what’s the optimal number of epochs to avoid overfitting, we can retrain our dataset on the whole training data set. This approach will make our neural network more adequate to predict on unseen data, as the data trained is not too finetuned to the partial training data set. ,/br>\n",
    "After that we evaluate the results on our testing dataset."
   ]
  },
  {
   "cell_type": "code",
   "execution_count": 27,
   "id": "384cec2b",
   "metadata": {},
   "outputs": [
    {
     "name": "stdout",
     "output_type": "stream",
     "text": [
      "Epoch 1/29\n",
      "23/23 [==============================] - 0s 702us/step - loss: 0.5843 - accuracy: 0.7341\n",
      "Epoch 2/29\n",
      "23/23 [==============================] - 0s 665us/step - loss: 0.3757 - accuracy: 0.8967\n",
      "Epoch 3/29\n",
      "23/23 [==============================] - 0s 716us/step - loss: 0.2628 - accuracy: 0.9297\n",
      "Epoch 4/29\n",
      "23/23 [==============================] - 0s 695us/step - loss: 0.1967 - accuracy: 0.9407\n",
      "Epoch 5/29\n",
      "23/23 [==============================] - 0s 731us/step - loss: 0.1583 - accuracy: 0.9473\n",
      "Epoch 6/29\n",
      "23/23 [==============================] - 0s 702us/step - loss: 0.1340 - accuracy: 0.9516\n",
      "Epoch 7/29\n",
      "23/23 [==============================] - 0s 682us/step - loss: 0.1181 - accuracy: 0.9648\n",
      "Epoch 8/29\n",
      "23/23 [==============================] - 0s 731us/step - loss: 0.1073 - accuracy: 0.9604\n",
      "Epoch 9/29\n",
      "23/23 [==============================] - 0s 696us/step - loss: 0.0990 - accuracy: 0.9648\n",
      "Epoch 10/29\n",
      "23/23 [==============================] - 0s 662us/step - loss: 0.0912 - accuracy: 0.9648\n",
      "Epoch 11/29\n",
      "23/23 [==============================] - 0s 741us/step - loss: 0.0853 - accuracy: 0.9670\n",
      "Epoch 12/29\n",
      "23/23 [==============================] - 0s 732us/step - loss: 0.0802 - accuracy: 0.9714\n",
      "Epoch 13/29\n",
      "23/23 [==============================] - 0s 649us/step - loss: 0.0753 - accuracy: 0.9758\n",
      "Epoch 14/29\n",
      "23/23 [==============================] - 0s 656us/step - loss: 0.0715 - accuracy: 0.9780\n",
      "Epoch 15/29\n",
      "23/23 [==============================] - 0s 700us/step - loss: 0.0670 - accuracy: 0.9780\n",
      "Epoch 16/29\n",
      "23/23 [==============================] - 0s 730us/step - loss: 0.0641 - accuracy: 0.9780\n",
      "Epoch 17/29\n",
      "23/23 [==============================] - 0s 705us/step - loss: 0.0612 - accuracy: 0.9802\n",
      "Epoch 18/29\n",
      "23/23 [==============================] - 0s 663us/step - loss: 0.0582 - accuracy: 0.9802\n",
      "Epoch 19/29\n",
      "23/23 [==============================] - 0s 686us/step - loss: 0.0572 - accuracy: 0.9846\n",
      "Epoch 20/29\n",
      "23/23 [==============================] - 0s 656us/step - loss: 0.0539 - accuracy: 0.9846\n",
      "Epoch 21/29\n",
      "23/23 [==============================] - 0s 708us/step - loss: 0.0524 - accuracy: 0.9846\n",
      "Epoch 22/29\n",
      "23/23 [==============================] - 0s 683us/step - loss: 0.0505 - accuracy: 0.9890\n",
      "Epoch 23/29\n",
      "23/23 [==============================] - 0s 692us/step - loss: 0.0494 - accuracy: 0.9912\n",
      "Epoch 24/29\n",
      "23/23 [==============================] - 0s 662us/step - loss: 0.0478 - accuracy: 0.9890\n",
      "Epoch 25/29\n",
      "23/23 [==============================] - 0s 660us/step - loss: 0.0461 - accuracy: 0.9912\n",
      "Epoch 26/29\n",
      "23/23 [==============================] - 0s 707us/step - loss: 0.0447 - accuracy: 0.9912\n",
      "Epoch 27/29\n",
      "23/23 [==============================] - 0s 674us/step - loss: 0.0439 - accuracy: 0.9912\n",
      "Epoch 28/29\n",
      "23/23 [==============================] - 0s 666us/step - loss: 0.0423 - accuracy: 0.9912\n",
      "Epoch 29/29\n",
      "23/23 [==============================] - 0s 683us/step - loss: 0.0409 - accuracy: 0.9912\n",
      "4/4 [==============================] - 0s 1ms/step - loss: 0.0270 - accuracy: 0.9912\n"
     ]
    },
    {
     "data": {
      "text/plain": [
       "[0.02697206288576126, 0.9912280440330505]"
      ]
     },
     "execution_count": 27,
     "metadata": {},
     "output_type": "execute_result"
    }
   ],
   "source": [
    "#re initiating our model\n",
    "model = models.Sequential()\n",
    "model.add(layers.Dense(16, activation = 'relu'))\n",
    "model.add(layers.Dense(16, activation = 'relu'))\n",
    "model.add(layers.Dense(1, activation = 'sigmoid'))\n",
    "\n",
    "#model compilation\n",
    "model.compile(optimizer='rmsprop',\n",
    "             loss='binary_crossentropy',\n",
    "             metrics=['accuracy'])\n",
    "\n",
    "#model fit using optimal epochs as training parameter and full training set\n",
    "model.fit(x_train,y_train,epochs = np.argmin(history_dict['val_loss'])+1,batch_size = 20) \n",
    "\n",
    "#evaluate on our test dataset\n",
    "results = model.evaluate(x_test, y_test)\n",
    "results"
   ]
  },
  {
   "cell_type": "markdown",
   "id": "fcd5beed",
   "metadata": {},
   "source": [
    "As we can see from the previous results our neural network model as achieve an accuracy of approximately 98%. Comparing to a baseline of 50% (random guessing the cell types) this is an excellent result.</br> We can now use our predictions to see how the model behaves on a practical setting. We do this by using the predict method."
   ]
  },
  {
   "cell_type": "code",
   "execution_count": 28,
   "id": "711e5591",
   "metadata": {},
   "outputs": [
    {
     "name": "stdout",
     "output_type": "stream",
     "text": [
      "23/23 [==============================] - 0s 566us/step\n",
      "[[1.        ]\n",
      " [0.9999165 ]\n",
      " [1.        ]\n",
      " [0.9999886 ]\n",
      " [0.7227958 ]\n",
      " [0.99999976]\n",
      " [0.97306293]\n",
      " [0.9951579 ]\n",
      " [0.00116435]\n",
      " [0.00234205]]\n"
     ]
    }
   ],
   "source": [
    "predictions = model.predict(x_test, batch_size = 5)\n",
    "print(predictions[:10])"
   ]
  },
  {
   "cell_type": "markdown",
   "id": "eb0a30cf",
   "metadata": {},
   "source": [
    "We can see by the results provided that the model is very confident for some samples but not so much on others. The model is not perfect and that is expected. This does not mean that we cannot try to improve it. For the purpose of this prototype we will not be trying to do any hyper parameter fine tunning or trying a different API like the functional api. This will be done in the next iterations of this project starting below."
   ]
  },
  {
   "cell_type": "markdown",
   "id": "6ef5f5b0",
   "metadata": {},
   "source": [
    "### Hyper Parameter Tuning\n",
    "Now that we had a chance to see the results of our first model, we can try to improve its accuracy by fine tuning our hyper parameters. Some further exploration can be made on:<br>\n",
    "a. changing the number of layers used;<br>\n",
    "b. changing the number of units per layer (32,64,etc);<br>\n",
    "c. using a different loss function, for example, mse instead of binary_crossentropy;<br>\n",
    "d. using a different activation, for example, tanh instead of relu.<br><br>\n",
    "For the sake of the length of this report we will not print out and plot every single experiment, instead we will leave one as an example and tabulate all results in this report for each experiment done."
   ]
  },
  {
   "cell_type": "code",
   "execution_count": 29,
   "id": "7f1ec35e",
   "metadata": {},
   "outputs": [
    {
     "name": "stdout",
     "output_type": "stream",
     "text": [
      "Epoch 1/30\n",
      "18/18 [==============================] - 0s 7ms/step - loss: 0.6382 - accuracy: 0.5972 - val_loss: 0.5079 - val_accuracy: 0.8600\n",
      "Epoch 2/30\n",
      "18/18 [==============================] - 0s 2ms/step - loss: 0.4584 - accuracy: 0.9155 - val_loss: 0.3699 - val_accuracy: 0.9200\n",
      "Epoch 3/30\n",
      "18/18 [==============================] - 0s 2ms/step - loss: 0.3247 - accuracy: 0.9408 - val_loss: 0.2563 - val_accuracy: 0.9400\n",
      "Epoch 4/30\n",
      "18/18 [==============================] - 0s 2ms/step - loss: 0.2274 - accuracy: 0.9437 - val_loss: 0.1873 - val_accuracy: 0.9200\n",
      "Epoch 5/30\n",
      "18/18 [==============================] - 0s 2ms/step - loss: 0.1675 - accuracy: 0.9549 - val_loss: 0.1472 - val_accuracy: 0.9300\n",
      "Epoch 6/30\n",
      "18/18 [==============================] - 0s 2ms/step - loss: 0.1303 - accuracy: 0.9634 - val_loss: 0.1279 - val_accuracy: 0.9400\n",
      "Epoch 7/30\n",
      "18/18 [==============================] - 0s 2ms/step - loss: 0.1073 - accuracy: 0.9718 - val_loss: 0.1186 - val_accuracy: 0.9400\n",
      "Epoch 8/30\n",
      "18/18 [==============================] - 0s 2ms/step - loss: 0.0922 - accuracy: 0.9746 - val_loss: 0.1148 - val_accuracy: 0.9400\n",
      "Epoch 9/30\n",
      "18/18 [==============================] - 0s 2ms/step - loss: 0.0818 - accuracy: 0.9746 - val_loss: 0.1132 - val_accuracy: 0.9400\n",
      "Epoch 10/30\n",
      "18/18 [==============================] - 0s 2ms/step - loss: 0.0744 - accuracy: 0.9746 - val_loss: 0.1187 - val_accuracy: 0.9500\n",
      "Epoch 11/30\n",
      "18/18 [==============================] - 0s 2ms/step - loss: 0.0689 - accuracy: 0.9775 - val_loss: 0.1218 - val_accuracy: 0.9500\n",
      "Epoch 12/30\n",
      "18/18 [==============================] - 0s 2ms/step - loss: 0.0640 - accuracy: 0.9831 - val_loss: 0.1182 - val_accuracy: 0.9500\n",
      "Epoch 13/30\n",
      "18/18 [==============================] - 0s 2ms/step - loss: 0.0599 - accuracy: 0.9803 - val_loss: 0.1222 - val_accuracy: 0.9500\n",
      "Epoch 14/30\n",
      "18/18 [==============================] - 0s 2ms/step - loss: 0.0569 - accuracy: 0.9831 - val_loss: 0.1272 - val_accuracy: 0.9500\n",
      "Epoch 15/30\n",
      "18/18 [==============================] - 0s 2ms/step - loss: 0.0536 - accuracy: 0.9831 - val_loss: 0.1367 - val_accuracy: 0.9500\n",
      "Epoch 16/30\n",
      "18/18 [==============================] - 0s 2ms/step - loss: 0.0503 - accuracy: 0.9859 - val_loss: 0.1365 - val_accuracy: 0.9500\n",
      "Epoch 17/30\n",
      "18/18 [==============================] - 0s 2ms/step - loss: 0.0473 - accuracy: 0.9887 - val_loss: 0.1370 - val_accuracy: 0.9500\n",
      "Epoch 18/30\n",
      "18/18 [==============================] - 0s 2ms/step - loss: 0.0453 - accuracy: 0.9915 - val_loss: 0.1405 - val_accuracy: 0.9500\n",
      "Epoch 19/30\n",
      "18/18 [==============================] - 0s 2ms/step - loss: 0.0438 - accuracy: 0.9887 - val_loss: 0.1495 - val_accuracy: 0.9500\n",
      "Epoch 20/30\n",
      "18/18 [==============================] - 0s 2ms/step - loss: 0.0416 - accuracy: 0.9887 - val_loss: 0.1571 - val_accuracy: 0.9500\n",
      "Epoch 21/30\n",
      "18/18 [==============================] - 0s 2ms/step - loss: 0.0400 - accuracy: 0.9887 - val_loss: 0.1638 - val_accuracy: 0.9500\n",
      "Epoch 22/30\n",
      "18/18 [==============================] - 0s 2ms/step - loss: 0.0374 - accuracy: 0.9915 - val_loss: 0.1668 - val_accuracy: 0.9500\n",
      "Epoch 23/30\n",
      "18/18 [==============================] - 0s 2ms/step - loss: 0.0364 - accuracy: 0.9887 - val_loss: 0.1727 - val_accuracy: 0.9500\n",
      "Epoch 24/30\n",
      "18/18 [==============================] - 0s 2ms/step - loss: 0.0336 - accuracy: 0.9915 - val_loss: 0.1756 - val_accuracy: 0.9500\n",
      "Epoch 25/30\n",
      "18/18 [==============================] - 0s 2ms/step - loss: 0.0331 - accuracy: 0.9915 - val_loss: 0.1945 - val_accuracy: 0.9500\n",
      "Epoch 26/30\n",
      "18/18 [==============================] - 0s 2ms/step - loss: 0.0311 - accuracy: 0.9915 - val_loss: 0.2014 - val_accuracy: 0.9500\n",
      "Epoch 27/30\n",
      "18/18 [==============================] - 0s 2ms/step - loss: 0.0308 - accuracy: 0.9887 - val_loss: 0.2021 - val_accuracy: 0.9500\n",
      "Epoch 28/30\n",
      "18/18 [==============================] - 0s 2ms/step - loss: 0.0284 - accuracy: 0.9915 - val_loss: 0.2056 - val_accuracy: 0.9500\n",
      "Epoch 29/30\n",
      "18/18 [==============================] - 0s 2ms/step - loss: 0.0278 - accuracy: 0.9915 - val_loss: 0.2144 - val_accuracy: 0.9500\n",
      "Epoch 30/30\n",
      "18/18 [==============================] - 0s 2ms/step - loss: 0.0263 - accuracy: 0.9915 - val_loss: 0.2315 - val_accuracy: 0.9500\n"
     ]
    }
   ],
   "source": [
    "#model definition using 1 intermidiate layer\n",
    "#model = models.Sequential()\n",
    "#model.add(layers.Dense(16, activation = 'relu'))\n",
    "#model.add(layers.Dense(1, activation = 'sigmoid'))\n",
    "\n",
    "#model definition using 3 intermidiate layer\n",
    "model = models.Sequential()\n",
    "model.add(layers.Dense(16, activation = 'relu'))\n",
    "model.add(layers.Dense(16, activation = 'relu'))\n",
    "model.add(layers.Dense(16, activation = 'relu'))\n",
    "model.add(layers.Dense(1, activation = 'sigmoid'))\n",
    "\n",
    "\n",
    "#model compilation\n",
    "model.compile(optimizer='rmsprop',\n",
    "             loss='binary_crossentropy',\n",
    "             metrics=['accuracy'])\n",
    "\n",
    "#Training the model\n",
    "history = model.fit(partial_x_train, \n",
    "                    partial_y_train,\n",
    "                    epochs = 30,\n",
    "                    batch_size = 20,\n",
    "                    validation_data = (x_val, y_val)) "
   ]
  },
  {
   "cell_type": "code",
   "execution_count": 30,
   "id": "6615f1f3",
   "metadata": {},
   "outputs": [
    {
     "data": {
      "image/png": "[encoded data removed]",
      "text/plain": [
       "<Figure size 640x480 with 1 Axes>"
      ]
     },
     "metadata": {},
     "output_type": "display_data"
    },
    {
     "data": {
      "text/plain": [
       "[0.6071799993515015,\n",
       " 0.4716753363609314,\n",
       " 0.3601042926311493,\n",
       " 0.2763906717300415,\n",
       " 0.22008174657821655,\n",
       " 0.1782262623310089,\n",
       " 0.14911910891532898,\n",
       " 0.1276574283838272,\n",
       " 0.11314403265714645,\n",
       " 0.10299957543611526,\n",
       " 0.09605102241039276,\n",
       " 0.09086782485246658,\n",
       " 0.08626747131347656,\n",
       " 0.08432193845510483,\n",
       " 0.08224578946828842,\n",
       " 0.08062651753425598,\n",
       " 0.0804009810090065,\n",
       " 0.07864056527614594,\n",
       " 0.07809692621231079,\n",
       " 0.07714838534593582,\n",
       " 0.07654538005590439,\n",
       " 0.07593069970607758,\n",
       " 0.07601829618215561,\n",
       " 0.07565247267484665,\n",
       " 0.07624847441911697,\n",
       " 0.0752486065030098,\n",
       " 0.07493890821933746,\n",
       " 0.07567189633846283,\n",
       " 0.0748506709933281,\n",
       " 0.07487449795007706]"
      ]
     },
     "execution_count": 30,
     "metadata": {},
     "output_type": "execute_result"
    }
   ],
   "source": [
    "plot_train_val_loss(history_dict['loss'],history_dict['val_loss'])"
   ]
  },
  {
   "cell_type": "code",
   "execution_count": 31,
   "id": "33bf161c",
   "metadata": {},
   "outputs": [
    {
     "name": "stdout",
     "output_type": "stream",
     "text": [
      "29 epochs\n"
     ]
    }
   ],
   "source": [
    "print(np.argmin(history_dict['val_loss'])+1, 'epochs')"
   ]
  },
  {
   "cell_type": "code",
   "execution_count": 32,
   "id": "67bab469",
   "metadata": {},
   "outputs": [
    {
     "data": {
      "image/png": "[encoded data removed]",
      "text/plain": [
       "<Figure size 640x480 with 1 Axes>"
      ]
     },
     "metadata": {},
     "output_type": "display_data"
    }
   ],
   "source": [
    "plot_train_val_accuracy(history_dict['accuracy'],history_dict['val_accuracy'])"
   ]
  },
  {
   "cell_type": "code",
   "execution_count": 33,
   "id": "291305c9",
   "metadata": {},
   "outputs": [
    {
     "name": "stdout",
     "output_type": "stream",
     "text": [
      "Epoch 1/29\n",
      "23/23 [==============================] - 0s 788us/step - loss: 0.0647 - accuracy: 0.9824\n",
      "Epoch 2/29\n",
      "23/23 [==============================] - 0s 679us/step - loss: 0.0558 - accuracy: 0.9846\n",
      "Epoch 3/29\n",
      "23/23 [==============================] - 0s 719us/step - loss: 0.0475 - accuracy: 0.9846\n",
      "Epoch 4/29\n",
      "23/23 [==============================] - 0s 709us/step - loss: 0.0431 - accuracy: 0.9824\n",
      "Epoch 5/29\n",
      "23/23 [==============================] - 0s 727us/step - loss: 0.0386 - accuracy: 0.9846\n",
      "Epoch 6/29\n",
      "23/23 [==============================] - 0s 714us/step - loss: 0.0339 - accuracy: 0.9868\n",
      "Epoch 7/29\n",
      "23/23 [==============================] - 0s 755us/step - loss: 0.0308 - accuracy: 0.9890\n",
      "Epoch 8/29\n",
      "23/23 [==============================] - 0s 731us/step - loss: 0.0292 - accuracy: 0.9890\n",
      "Epoch 9/29\n",
      "23/23 [==============================] - 0s 718us/step - loss: 0.0261 - accuracy: 0.9890\n",
      "Epoch 10/29\n",
      "23/23 [==============================] - 0s 715us/step - loss: 0.0250 - accuracy: 0.9890\n",
      "Epoch 11/29\n",
      "23/23 [==============================] - 0s 738us/step - loss: 0.0232 - accuracy: 0.9912\n",
      "Epoch 12/29\n",
      "23/23 [==============================] - 0s 754us/step - loss: 0.0211 - accuracy: 0.9912\n",
      "Epoch 13/29\n",
      "23/23 [==============================] - 0s 686us/step - loss: 0.0202 - accuracy: 0.9912\n",
      "Epoch 14/29\n",
      "23/23 [==============================] - 0s 762us/step - loss: 0.0187 - accuracy: 0.9912\n",
      "Epoch 15/29\n",
      "23/23 [==============================] - 0s 764us/step - loss: 0.0175 - accuracy: 0.9912\n",
      "Epoch 16/29\n",
      "23/23 [==============================] - 0s 711us/step - loss: 0.0171 - accuracy: 0.9934\n",
      "Epoch 17/29\n",
      "23/23 [==============================] - 0s 729us/step - loss: 0.0155 - accuracy: 0.9934\n",
      "Epoch 18/29\n",
      "23/23 [==============================] - 0s 742us/step - loss: 0.0150 - accuracy: 0.9956\n",
      "Epoch 19/29\n",
      "23/23 [==============================] - 0s 731us/step - loss: 0.0142 - accuracy: 0.9956\n",
      "Epoch 20/29\n",
      "23/23 [==============================] - 0s 779us/step - loss: 0.0128 - accuracy: 0.9956\n",
      "Epoch 21/29\n",
      "23/23 [==============================] - 0s 782us/step - loss: 0.0128 - accuracy: 0.9956\n",
      "Epoch 22/29\n",
      "23/23 [==============================] - 0s 735us/step - loss: 0.0113 - accuracy: 0.9956\n",
      "Epoch 23/29\n",
      "23/23 [==============================] - 0s 735us/step - loss: 0.0111 - accuracy: 0.9956\n",
      "Epoch 24/29\n",
      "23/23 [==============================] - 0s 778us/step - loss: 0.0102 - accuracy: 0.9956\n",
      "Epoch 25/29\n",
      "23/23 [==============================] - 0s 713us/step - loss: 0.0093 - accuracy: 0.9956\n",
      "Epoch 26/29\n",
      "23/23 [==============================] - 0s 741us/step - loss: 0.0089 - accuracy: 0.9956\n",
      "Epoch 27/29\n",
      "23/23 [==============================] - 0s 695us/step - loss: 0.0079 - accuracy: 0.9956\n",
      "Epoch 28/29\n",
      "23/23 [==============================] - 0s 723us/step - loss: 0.0079 - accuracy: 0.9956\n",
      "Epoch 29/29\n",
      "23/23 [==============================] - 0s 687us/step - loss: 0.0064 - accuracy: 0.9978\n"
     ]
    },
    {
     "data": {
      "text/plain": [
       "<keras.callbacks.History at 0x1de6715fee0>"
      ]
     },
     "execution_count": 33,
     "metadata": {},
     "output_type": "execute_result"
    }
   ],
   "source": [
    "#model fit using optimal epochs as training parameter and full training set\n",
    "model.fit(x_train,y_train,epochs = np.argmin(history_dict['val_loss'])+1,batch_size = 20) \n",
    "\n"
   ]
  },
  {
   "cell_type": "code",
   "execution_count": 34,
   "id": "4770ebc8",
   "metadata": {},
   "outputs": [
    {
     "name": "stdout",
     "output_type": "stream",
     "text": [
      "4/4 [==============================] - 0s 1ms/step - loss: 0.0383 - accuracy: 0.9825\n"
     ]
    },
    {
     "data": {
      "text/plain": [
       "[0.038337867707014084, 0.9824561476707458]"
      ]
     },
     "execution_count": 34,
     "metadata": {},
     "output_type": "execute_result"
    }
   ],
   "source": [
    "#evaluate on our test dataset\n",
    "results = model.evaluate(x_test, y_test)\n",
    "results"
   ]
  },
  {
   "cell_type": "markdown",
   "id": "927ff5b9",
   "metadata": {},
   "source": [
    "Looking at the below table the optimal number of intermediate layers stands at 2.\n",
    "<table>\n",
    "  <tr>\n",
    "    <th>Number of Intermidiate Layers</th>\n",
    "    <th>Accuracy</th>\n",
    "  </tr>\n",
    "    <tr>\n",
    "    <td>1</td>\n",
    "    <td>0.9825</td>\n",
    "  </tr>\n",
    "  <tr>\n",
    "    <td>2</td>\n",
    "    <td>0.9912</td>\n",
    "  </tr>\n",
    "  <tr>\n",
    "    <td>3</td>\n",
    "    <td>0.9825</td>\n",
    "  </tr>\n",
    "</table>"
   ]
  },
  {
   "cell_type": "markdown",
   "id": "4ee7bc62",
   "metadata": {},
   "source": [
    "### Number of Units\n",
    "Using the optimal number of layers found earlier, we will now experiment with the number of units per layer for 32 and 64 units."
   ]
  },
  {
   "cell_type": "code",
   "execution_count": 35,
   "id": "6917aa84",
   "metadata": {},
   "outputs": [
    {
     "name": "stdout",
     "output_type": "stream",
     "text": [
      "Epoch 1/30\n",
      "18/18 [==============================] - 0s 6ms/step - loss: 0.4360 - accuracy: 0.8366 - val_loss: 0.2580 - val_accuracy: 0.9400\n",
      "Epoch 2/30\n",
      "18/18 [==============================] - 0s 2ms/step - loss: 0.2206 - accuracy: 0.9408 - val_loss: 0.1675 - val_accuracy: 0.9200\n",
      "Epoch 3/30\n",
      "18/18 [==============================] - 0s 2ms/step - loss: 0.1504 - accuracy: 0.9606 - val_loss: 0.1231 - val_accuracy: 0.9600\n",
      "Epoch 4/30\n",
      "18/18 [==============================] - 0s 2ms/step - loss: 0.1105 - accuracy: 0.9775 - val_loss: 0.0957 - val_accuracy: 0.9600\n",
      "Epoch 5/30\n",
      "18/18 [==============================] - 0s 2ms/step - loss: 0.0895 - accuracy: 0.9831 - val_loss: 0.0817 - val_accuracy: 0.9700\n",
      "Epoch 6/30\n",
      "18/18 [==============================] - 0s 2ms/step - loss: 0.0751 - accuracy: 0.9831 - val_loss: 0.0750 - val_accuracy: 0.9600\n",
      "Epoch 7/30\n",
      "18/18 [==============================] - 0s 2ms/step - loss: 0.0670 - accuracy: 0.9803 - val_loss: 0.0715 - val_accuracy: 0.9600\n",
      "Epoch 8/30\n",
      "18/18 [==============================] - 0s 2ms/step - loss: 0.0591 - accuracy: 0.9859 - val_loss: 0.0686 - val_accuracy: 0.9600\n",
      "Epoch 9/30\n",
      "18/18 [==============================] - 0s 2ms/step - loss: 0.0541 - accuracy: 0.9859 - val_loss: 0.0626 - val_accuracy: 0.9700\n",
      "Epoch 10/30\n",
      "18/18 [==============================] - 0s 2ms/step - loss: 0.0506 - accuracy: 0.9859 - val_loss: 0.0674 - val_accuracy: 0.9600\n",
      "Epoch 11/30\n",
      "18/18 [==============================] - 0s 2ms/step - loss: 0.0454 - accuracy: 0.9859 - val_loss: 0.0699 - val_accuracy: 0.9600\n",
      "Epoch 12/30\n",
      "18/18 [==============================] - 0s 2ms/step - loss: 0.0419 - accuracy: 0.9887 - val_loss: 0.0746 - val_accuracy: 0.9600\n",
      "Epoch 13/30\n",
      "18/18 [==============================] - 0s 2ms/step - loss: 0.0387 - accuracy: 0.9887 - val_loss: 0.0742 - val_accuracy: 0.9600\n",
      "Epoch 14/30\n",
      "18/18 [==============================] - 0s 2ms/step - loss: 0.0347 - accuracy: 0.9887 - val_loss: 0.0779 - val_accuracy: 0.9700\n",
      "Epoch 15/30\n",
      "18/18 [==============================] - 0s 2ms/step - loss: 0.0320 - accuracy: 0.9887 - val_loss: 0.0760 - val_accuracy: 0.9700\n",
      "Epoch 16/30\n",
      "18/18 [==============================] - 0s 2ms/step - loss: 0.0290 - accuracy: 0.9887 - val_loss: 0.0857 - val_accuracy: 0.9700\n",
      "Epoch 17/30\n",
      "18/18 [==============================] - 0s 2ms/step - loss: 0.0294 - accuracy: 0.9915 - val_loss: 0.0838 - val_accuracy: 0.9700\n",
      "Epoch 18/30\n",
      "18/18 [==============================] - 0s 2ms/step - loss: 0.0234 - accuracy: 0.9915 - val_loss: 0.0779 - val_accuracy: 0.9700\n",
      "Epoch 19/30\n",
      "18/18 [==============================] - 0s 2ms/step - loss: 0.0228 - accuracy: 0.9915 - val_loss: 0.0864 - val_accuracy: 0.9700\n",
      "Epoch 20/30\n",
      "18/18 [==============================] - 0s 2ms/step - loss: 0.0212 - accuracy: 0.9915 - val_loss: 0.0864 - val_accuracy: 0.9700\n",
      "Epoch 21/30\n",
      "18/18 [==============================] - 0s 2ms/step - loss: 0.0188 - accuracy: 0.9944 - val_loss: 0.0924 - val_accuracy: 0.9700\n",
      "Epoch 22/30\n",
      "18/18 [==============================] - 0s 2ms/step - loss: 0.0172 - accuracy: 0.9944 - val_loss: 0.0906 - val_accuracy: 0.9700\n",
      "Epoch 23/30\n",
      "18/18 [==============================] - 0s 2ms/step - loss: 0.0154 - accuracy: 0.9915 - val_loss: 0.1097 - val_accuracy: 0.9700\n",
      "Epoch 24/30\n",
      "18/18 [==============================] - 0s 2ms/step - loss: 0.0132 - accuracy: 0.9972 - val_loss: 0.1054 - val_accuracy: 0.9700\n",
      "Epoch 25/30\n",
      "18/18 [==============================] - 0s 2ms/step - loss: 0.0135 - accuracy: 0.9972 - val_loss: 0.1123 - val_accuracy: 0.9700\n",
      "Epoch 26/30\n",
      "18/18 [==============================] - 0s 2ms/step - loss: 0.0110 - accuracy: 1.0000 - val_loss: 0.1041 - val_accuracy: 0.9700\n",
      "Epoch 27/30\n",
      "18/18 [==============================] - 0s 2ms/step - loss: 0.0114 - accuracy: 0.9972 - val_loss: 0.1080 - val_accuracy: 0.9700\n",
      "Epoch 28/30\n",
      "18/18 [==============================] - 0s 2ms/step - loss: 0.0088 - accuracy: 1.0000 - val_loss: 0.1121 - val_accuracy: 0.9700\n",
      "Epoch 29/30\n",
      "18/18 [==============================] - 0s 2ms/step - loss: 0.0087 - accuracy: 1.0000 - val_loss: 0.1158 - val_accuracy: 0.9700\n",
      "Epoch 30/30\n",
      "18/18 [==============================] - 0s 2ms/step - loss: 0.0077 - accuracy: 0.9972 - val_loss: 0.1192 - val_accuracy: 0.9700\n"
     ]
    }
   ],
   "source": [
    "#model definition using 32 units in the intermidiate layers\n",
    "#model = models.Sequential()\n",
    "#model.add(layers.Dense(32, activation = 'relu'))\n",
    "#model.add(layers.Dense(32, activation = 'relu'))\n",
    "#model.add(layers.Dense(1, activation = 'sigmoid'))\n",
    "\n",
    "#model definition using 64 units in the intermidiate layers\n",
    "model = models.Sequential()\n",
    "model.add(layers.Dense(64, activation = 'relu'))\n",
    "model.add(layers.Dense(64, activation = 'relu'))\n",
    "model.add(layers.Dense(1, activation = 'sigmoid'))\n",
    "\n",
    "#model compilation\n",
    "model.compile(optimizer='rmsprop',\n",
    "             loss='binary_crossentropy',\n",
    "             metrics=['accuracy'])\n",
    "\n",
    "#Training the model\n",
    "history = model.fit(partial_x_train, \n",
    "                    partial_y_train,\n",
    "                    epochs = 30,\n",
    "                    batch_size = 20,\n",
    "                    validation_data = (x_val, y_val)) "
   ]
  },
  {
   "cell_type": "code",
   "execution_count": 36,
   "id": "82a86bd2",
   "metadata": {},
   "outputs": [
    {
     "data": {
      "image/png": "[encoded data removed]",
      "text/plain": [
       "<Figure size 640x480 with 1 Axes>"
      ]
     },
     "metadata": {},
     "output_type": "display_data"
    },
    {
     "data": {
      "text/plain": [
       "[0.6071799993515015,\n",
       " 0.4716753363609314,\n",
       " 0.3601042926311493,\n",
       " 0.2763906717300415,\n",
       " 0.22008174657821655,\n",
       " 0.1782262623310089,\n",
       " 0.14911910891532898,\n",
       " 0.1276574283838272,\n",
       " 0.11314403265714645,\n",
       " 0.10299957543611526,\n",
       " 0.09605102241039276,\n",
       " 0.09086782485246658,\n",
       " 0.08626747131347656,\n",
       " 0.08432193845510483,\n",
       " 0.08224578946828842,\n",
       " 0.08062651753425598,\n",
       " 0.0804009810090065,\n",
       " 0.07864056527614594,\n",
       " 0.07809692621231079,\n",
       " 0.07714838534593582,\n",
       " 0.07654538005590439,\n",
       " 0.07593069970607758,\n",
       " 0.07601829618215561,\n",
       " 0.07565247267484665,\n",
       " 0.07624847441911697,\n",
       " 0.0752486065030098,\n",
       " 0.07493890821933746,\n",
       " 0.07567189633846283,\n",
       " 0.0748506709933281,\n",
       " 0.07487449795007706]"
      ]
     },
     "execution_count": 36,
     "metadata": {},
     "output_type": "execute_result"
    }
   ],
   "source": [
    "plot_train_val_loss(history_dict['loss'],history_dict['val_loss'])"
   ]
  },
  {
   "cell_type": "code",
   "execution_count": 37,
   "id": "29094304",
   "metadata": {},
   "outputs": [
    {
     "name": "stdout",
     "output_type": "stream",
     "text": [
      "29 epochs\n"
     ]
    }
   ],
   "source": [
    "print(np.argmin(history_dict['val_loss'])+1, 'epochs')"
   ]
  },
  {
   "cell_type": "code",
   "execution_count": 38,
   "id": "c39760cd",
   "metadata": {},
   "outputs": [
    {
     "data": {
      "image/png": "[encoded data removed]",
      "text/plain": [
       "<Figure size 640x480 with 1 Axes>"
      ]
     },
     "metadata": {},
     "output_type": "display_data"
    }
   ],
   "source": [
    "plot_train_val_accuracy(history_dict['accuracy'],history_dict['val_accuracy'])"
   ]
  },
  {
   "cell_type": "code",
   "execution_count": 39,
   "id": "13616e1a",
   "metadata": {},
   "outputs": [
    {
     "name": "stdout",
     "output_type": "stream",
     "text": [
      "Epoch 1/29\n",
      "23/23 [==============================] - 0s 773us/step - loss: 0.0291 - accuracy: 0.9934\n",
      "Epoch 2/29\n",
      "23/23 [==============================] - 0s 683us/step - loss: 0.0200 - accuracy: 0.9956\n",
      "Epoch 3/29\n",
      "23/23 [==============================] - 0s 695us/step - loss: 0.0122 - accuracy: 0.9978\n",
      "Epoch 4/29\n",
      "23/23 [==============================] - 0s 729us/step - loss: 0.0111 - accuracy: 0.9978\n",
      "Epoch 5/29\n",
      "23/23 [==============================] - 0s 729us/step - loss: 0.0071 - accuracy: 1.0000\n",
      "Epoch 6/29\n",
      "23/23 [==============================] - 0s 683us/step - loss: 0.0063 - accuracy: 1.0000\n",
      "Epoch 7/29\n",
      "23/23 [==============================] - 0s 683us/step - loss: 0.0067 - accuracy: 1.0000\n",
      "Epoch 8/29\n",
      "23/23 [==============================] - 0s 710us/step - loss: 0.0048 - accuracy: 1.0000\n",
      "Epoch 9/29\n",
      "23/23 [==============================] - 0s 745us/step - loss: 0.0059 - accuracy: 1.0000\n",
      "Epoch 10/29\n",
      "23/23 [==============================] - 0s 697us/step - loss: 0.0041 - accuracy: 1.0000\n",
      "Epoch 11/29\n",
      "23/23 [==============================] - 0s 758us/step - loss: 0.0040 - accuracy: 1.0000\n",
      "Epoch 12/29\n",
      "23/23 [==============================] - 0s 706us/step - loss: 0.0031 - accuracy: 1.0000\n",
      "Epoch 13/29\n",
      "23/23 [==============================] - 0s 706us/step - loss: 0.0029 - accuracy: 1.0000\n",
      "Epoch 14/29\n",
      "23/23 [==============================] - 0s 774us/step - loss: 0.0024 - accuracy: 1.0000\n",
      "Epoch 15/29\n",
      "23/23 [==============================] - 0s 706us/step - loss: 0.0019 - accuracy: 1.0000\n",
      "Epoch 16/29\n",
      "23/23 [==============================] - 0s 706us/step - loss: 0.0017 - accuracy: 1.0000\n",
      "Epoch 17/29\n",
      "23/23 [==============================] - 0s 708us/step - loss: 0.0017 - accuracy: 1.0000\n",
      "Epoch 18/29\n",
      "23/23 [==============================] - 0s 692us/step - loss: 0.0014 - accuracy: 1.0000\n",
      "Epoch 19/29\n",
      "23/23 [==============================] - 0s 701us/step - loss: 0.0014 - accuracy: 1.0000\n",
      "Epoch 20/29\n",
      "23/23 [==============================] - 0s 661us/step - loss: 8.9310e-04 - accuracy: 1.0000\n",
      "Epoch 21/29\n",
      "23/23 [==============================] - 0s 661us/step - loss: 0.0011 - accuracy: 1.0000\n",
      "Epoch 22/29\n",
      "23/23 [==============================] - 0s 661us/step - loss: 8.8213e-04 - accuracy: 1.0000\n",
      "Epoch 23/29\n",
      "23/23 [==============================] - 0s 706us/step - loss: 8.2975e-04 - accuracy: 1.0000\n",
      "Epoch 24/29\n",
      "23/23 [==============================] - 0s 706us/step - loss: 7.1242e-04 - accuracy: 1.0000\n",
      "Epoch 25/29\n",
      "23/23 [==============================] - 0s 661us/step - loss: 5.9716e-04 - accuracy: 1.0000\n",
      "Epoch 26/29\n",
      "23/23 [==============================] - 0s 729us/step - loss: 5.7800e-04 - accuracy: 1.0000\n",
      "Epoch 27/29\n",
      "23/23 [==============================] - 0s 708us/step - loss: 4.4360e-04 - accuracy: 1.0000\n",
      "Epoch 28/29\n",
      "23/23 [==============================] - 0s 660us/step - loss: 3.7912e-04 - accuracy: 1.0000\n",
      "Epoch 29/29\n",
      "23/23 [==============================] - 0s 661us/step - loss: 3.9464e-04 - accuracy: 1.0000\n"
     ]
    },
    {
     "data": {
      "text/plain": [
       "<keras.callbacks.History at 0x1de68c4fca0>"
      ]
     },
     "execution_count": 39,
     "metadata": {},
     "output_type": "execute_result"
    }
   ],
   "source": [
    "#model fit using optimal epochs as training parameter and full training set\n",
    "model.fit(x_train,y_train,epochs = np.argmin(history_dict['val_loss'])+1,batch_size = 20) "
   ]
  },
  {
   "cell_type": "code",
   "execution_count": 40,
   "id": "300f5166",
   "metadata": {},
   "outputs": [
    {
     "name": "stdout",
     "output_type": "stream",
     "text": [
      "4/4 [==============================] - 0s 1ms/step - loss: 0.1153 - accuracy: 0.9912\n"
     ]
    },
    {
     "data": {
      "text/plain": [
       "[0.11525397002696991, 0.9912280440330505]"
      ]
     },
     "execution_count": 40,
     "metadata": {},
     "output_type": "execute_result"
    }
   ],
   "source": [
    "#evaluate on our test dataset\n",
    "results = model.evaluate(x_test, y_test)\n",
    "results"
   ]
  },
  {
   "cell_type": "markdown",
   "id": "5d7dc6ca",
   "metadata": {},
   "source": [
    "It seems changing the number of units to 32 improves accuracy a little.\n",
    "<table>\n",
    "  <tr>\n",
    "    <th>Number of Units</th>\n",
    "    <th>Accuracy</th>\n",
    "  </tr>\n",
    "    <tr>\n",
    "    <td>16</td>\n",
    "    <td>0.9912</td>\n",
    "  </tr>\n",
    "  <tr>\n",
    "    <td>32</td>\n",
    "    <td>0.9978</td>\n",
    "  </tr>\n",
    "  <tr>\n",
    "    <td>64</td>\n",
    "    <td>0.9912</td>\n",
    "  </tr>\n",
    "</table>"
   ]
  },
  {
   "cell_type": "markdown",
   "id": "3ac1d99b",
   "metadata": {},
   "source": [
    "### Using a Different Loss Function\n",
    "Now we will try changing the type of loss function will using the optimal parameters we found so far. We will use 'mse' instead of 'binary_crossentropy'."
   ]
  },
  {
   "cell_type": "code",
   "execution_count": 41,
   "id": "41b8543b",
   "metadata": {},
   "outputs": [
    {
     "name": "stdout",
     "output_type": "stream",
     "text": [
      "Epoch 1/30\n",
      "18/18 [==============================] - 0s 6ms/step - loss: 0.1338 - accuracy: 0.8958 - val_loss: 0.0831 - val_accuracy: 0.9200\n",
      "Epoch 2/30\n",
      "18/18 [==============================] - 0s 2ms/step - loss: 0.0738 - accuracy: 0.9380 - val_loss: 0.0558 - val_accuracy: 0.9400\n",
      "Epoch 3/30\n",
      "18/18 [==============================] - 0s 2ms/step - loss: 0.0515 - accuracy: 0.9437 - val_loss: 0.0418 - val_accuracy: 0.9600\n",
      "Epoch 4/30\n",
      "18/18 [==============================] - 0s 2ms/step - loss: 0.0397 - accuracy: 0.9577 - val_loss: 0.0333 - val_accuracy: 0.9700\n",
      "Epoch 5/30\n",
      "18/18 [==============================] - 0s 2ms/step - loss: 0.0323 - accuracy: 0.9690 - val_loss: 0.0281 - val_accuracy: 0.9700\n",
      "Epoch 6/30\n",
      "18/18 [==============================] - 0s 2ms/step - loss: 0.0275 - accuracy: 0.9662 - val_loss: 0.0255 - val_accuracy: 0.9700\n",
      "Epoch 7/30\n",
      "18/18 [==============================] - 0s 2ms/step - loss: 0.0242 - accuracy: 0.9718 - val_loss: 0.0234 - val_accuracy: 0.9700\n",
      "Epoch 8/30\n",
      "18/18 [==============================] - 0s 2ms/step - loss: 0.0218 - accuracy: 0.9746 - val_loss: 0.0220 - val_accuracy: 0.9800\n",
      "Epoch 9/30\n",
      "18/18 [==============================] - 0s 2ms/step - loss: 0.0196 - accuracy: 0.9803 - val_loss: 0.0200 - val_accuracy: 0.9700\n",
      "Epoch 10/30\n",
      "18/18 [==============================] - 0s 2ms/step - loss: 0.0179 - accuracy: 0.9831 - val_loss: 0.0205 - val_accuracy: 0.9600\n",
      "Epoch 11/30\n",
      "18/18 [==============================] - 0s 2ms/step - loss: 0.0167 - accuracy: 0.9831 - val_loss: 0.0196 - val_accuracy: 0.9700\n",
      "Epoch 12/30\n",
      "18/18 [==============================] - 0s 2ms/step - loss: 0.0154 - accuracy: 0.9859 - val_loss: 0.0201 - val_accuracy: 0.9600\n",
      "Epoch 13/30\n",
      "18/18 [==============================] - 0s 2ms/step - loss: 0.0145 - accuracy: 0.9887 - val_loss: 0.0198 - val_accuracy: 0.9600\n",
      "Epoch 14/30\n",
      "18/18 [==============================] - 0s 2ms/step - loss: 0.0136 - accuracy: 0.9887 - val_loss: 0.0198 - val_accuracy: 0.9600\n",
      "Epoch 15/30\n",
      "18/18 [==============================] - 0s 2ms/step - loss: 0.0128 - accuracy: 0.9887 - val_loss: 0.0196 - val_accuracy: 0.9600\n",
      "Epoch 16/30\n",
      "18/18 [==============================] - 0s 2ms/step - loss: 0.0120 - accuracy: 0.9887 - val_loss: 0.0198 - val_accuracy: 0.9600\n",
      "Epoch 17/30\n",
      "18/18 [==============================] - 0s 2ms/step - loss: 0.0114 - accuracy: 0.9887 - val_loss: 0.0199 - val_accuracy: 0.9600\n",
      "Epoch 18/30\n",
      "18/18 [==============================] - 0s 2ms/step - loss: 0.0108 - accuracy: 0.9887 - val_loss: 0.0195 - val_accuracy: 0.9600\n",
      "Epoch 19/30\n",
      "18/18 [==============================] - 0s 2ms/step - loss: 0.0100 - accuracy: 0.9887 - val_loss: 0.0213 - val_accuracy: 0.9600\n",
      "Epoch 20/30\n",
      "18/18 [==============================] - 0s 2ms/step - loss: 0.0099 - accuracy: 0.9887 - val_loss: 0.0210 - val_accuracy: 0.9600\n",
      "Epoch 21/30\n",
      "18/18 [==============================] - 0s 2ms/step - loss: 0.0095 - accuracy: 0.9887 - val_loss: 0.0217 - val_accuracy: 0.9600\n",
      "Epoch 22/30\n",
      "18/18 [==============================] - 0s 2ms/step - loss: 0.0089 - accuracy: 0.9915 - val_loss: 0.0227 - val_accuracy: 0.9600\n",
      "Epoch 23/30\n",
      "18/18 [==============================] - 0s 2ms/step - loss: 0.0088 - accuracy: 0.9944 - val_loss: 0.0232 - val_accuracy: 0.9600\n",
      "Epoch 24/30\n",
      "18/18 [==============================] - 0s 2ms/step - loss: 0.0084 - accuracy: 0.9944 - val_loss: 0.0230 - val_accuracy: 0.9600\n",
      "Epoch 25/30\n",
      "18/18 [==============================] - 0s 2ms/step - loss: 0.0080 - accuracy: 0.9944 - val_loss: 0.0238 - val_accuracy: 0.9600\n",
      "Epoch 26/30\n",
      "18/18 [==============================] - 0s 2ms/step - loss: 0.0079 - accuracy: 0.9944 - val_loss: 0.0233 - val_accuracy: 0.9600\n",
      "Epoch 27/30\n",
      "18/18 [==============================] - 0s 2ms/step - loss: 0.0076 - accuracy: 0.9944 - val_loss: 0.0234 - val_accuracy: 0.9500\n",
      "Epoch 28/30\n",
      "18/18 [==============================] - 0s 2ms/step - loss: 0.0076 - accuracy: 0.9944 - val_loss: 0.0244 - val_accuracy: 0.9600\n",
      "Epoch 29/30\n",
      "18/18 [==============================] - 0s 2ms/step - loss: 0.0072 - accuracy: 0.9944 - val_loss: 0.0250 - val_accuracy: 0.9600\n",
      "Epoch 30/30\n",
      "18/18 [==============================] - 0s 2ms/step - loss: 0.0071 - accuracy: 0.9944 - val_loss: 0.0258 - val_accuracy: 0.9500\n"
     ]
    }
   ],
   "source": [
    "#model definition using 32 units in the intermidiate layers\n",
    "model = models.Sequential()\n",
    "model.add(layers.Dense(32, activation = 'relu'))\n",
    "model.add(layers.Dense(32, activation = 'relu'))\n",
    "model.add(layers.Dense(1, activation = 'sigmoid'))\n",
    "\n",
    "\n",
    "#model compilation\n",
    "model.compile(optimizer='rmsprop',\n",
    "             loss='mse',\n",
    "             metrics=['accuracy'])\n",
    "\n",
    "#Training the model\n",
    "history = model.fit(partial_x_train, \n",
    "                    partial_y_train,\n",
    "                    epochs = 30,\n",
    "                    batch_size = 20,\n",
    "                    validation_data = (x_val, y_val)) "
   ]
  },
  {
   "cell_type": "code",
   "execution_count": 42,
   "id": "6c52a668",
   "metadata": {},
   "outputs": [
    {
     "data": {
      "image/png": "[encoded data removed]",
      "text/plain": [
       "<Figure size 640x480 with 1 Axes>"
      ]
     },
     "metadata": {},
     "output_type": "display_data"
    },
    {
     "data": {
      "text/plain": [
       "[0.08305484801530838,\n",
       " 0.055763207376003265,\n",
       " 0.04182170331478119,\n",
       " 0.03328636288642883,\n",
       " 0.02814326249063015,\n",
       " 0.025547759607434273,\n",
       " 0.023395834490656853,\n",
       " 0.0219860952347517,\n",
       " 0.02002144046127796,\n",
       " 0.02051432617008686,\n",
       " 0.019597157835960388,\n",
       " 0.020061347633600235,\n",
       " 0.019781608134508133,\n",
       " 0.0198171678930521,\n",
       " 0.01959186978638172,\n",
       " 0.01981574483215809,\n",
       " 0.019867844879627228,\n",
       " 0.0194604080170393,\n",
       " 0.02126495912671089,\n",
       " 0.021023178473114967,\n",
       " 0.02173105999827385,\n",
       " 0.02267373353242874,\n",
       " 0.023153720423579216,\n",
       " 0.022979725152254105,\n",
       " 0.023827750235795975,\n",
       " 0.02327437698841095,\n",
       " 0.023407835513353348,\n",
       " 0.024427004158496857,\n",
       " 0.024988457560539246,\n",
       " 0.025777729228138924]"
      ]
     },
     "execution_count": 42,
     "metadata": {},
     "output_type": "execute_result"
    }
   ],
   "source": [
    "history_dict = history.history\n",
    "history_dict.keys()\n",
    "\n",
    "#calling function to plot validation, training loss\n",
    "plot_train_val_loss(history_dict['loss'],history_dict['val_loss'])"
   ]
  },
  {
   "cell_type": "code",
   "execution_count": 43,
   "id": "23979c4e",
   "metadata": {},
   "outputs": [
    {
     "name": "stdout",
     "output_type": "stream",
     "text": [
      "18 epochs\n"
     ]
    }
   ],
   "source": [
    "#optimal epoch\n",
    "print(np.argmin(history_dict['val_loss'])+1, 'epochs')"
   ]
  },
  {
   "cell_type": "code",
   "execution_count": 44,
   "id": "ceb1ca06",
   "metadata": {},
   "outputs": [
    {
     "data": {
      "text/plain": [
       "0.9887323975563049"
      ]
     },
     "execution_count": 44,
     "metadata": {},
     "output_type": "execute_result"
    }
   ],
   "source": [
    "#accuracy for optimal epochs training\n",
    "history_dict['accuracy'][np.argmin(history_dict['val_loss'])+1]"
   ]
  },
  {
   "cell_type": "code",
   "execution_count": 45,
   "id": "62c4b514",
   "metadata": {},
   "outputs": [
    {
     "name": "stdout",
     "output_type": "stream",
     "text": [
      "Epoch 1/18\n",
      "23/23 [==============================] - 0s 782us/step - loss: 0.0110 - accuracy: 0.9868\n",
      "Epoch 2/18\n",
      "23/23 [==============================] - 0s 700us/step - loss: 0.0087 - accuracy: 0.9934\n",
      "Epoch 3/18\n",
      "23/23 [==============================] - 0s 780us/step - loss: 0.0071 - accuracy: 0.9956\n",
      "Epoch 4/18\n",
      "23/23 [==============================] - 0s 736us/step - loss: 0.0066 - accuracy: 0.9956\n",
      "Epoch 5/18\n",
      "23/23 [==============================] - 0s 705us/step - loss: 0.0062 - accuracy: 0.9956\n",
      "Epoch 6/18\n",
      "23/23 [==============================] - 0s 686us/step - loss: 0.0060 - accuracy: 0.9956\n",
      "Epoch 7/18\n",
      "23/23 [==============================] - 0s 749us/step - loss: 0.0058 - accuracy: 0.9956\n",
      "Epoch 8/18\n",
      "23/23 [==============================] - 0s 701us/step - loss: 0.0055 - accuracy: 0.9956\n",
      "Epoch 9/18\n",
      "23/23 [==============================] - 0s 714us/step - loss: 0.0053 - accuracy: 0.9956\n",
      "Epoch 10/18\n",
      "23/23 [==============================] - 0s 693us/step - loss: 0.0052 - accuracy: 0.9956\n",
      "Epoch 11/18\n",
      "23/23 [==============================] - 0s 790us/step - loss: 0.0051 - accuracy: 0.9956\n",
      "Epoch 12/18\n",
      "23/23 [==============================] - 0s 822us/step - loss: 0.0050 - accuracy: 0.9956\n",
      "Epoch 13/18\n",
      "23/23 [==============================] - 0s 732us/step - loss: 0.0047 - accuracy: 0.9956\n",
      "Epoch 14/18\n",
      "23/23 [==============================] - 0s 731us/step - loss: 0.0048 - accuracy: 0.9956\n",
      "Epoch 15/18\n",
      "23/23 [==============================] - 0s 735us/step - loss: 0.0045 - accuracy: 0.9956\n",
      "Epoch 16/18\n",
      "23/23 [==============================] - 0s 703us/step - loss: 0.0044 - accuracy: 0.9956\n",
      "Epoch 17/18\n",
      "23/23 [==============================] - 0s 822us/step - loss: 0.0043 - accuracy: 0.9956\n",
      "Epoch 18/18\n",
      "23/23 [==============================] - 0s 769us/step - loss: 0.0040 - accuracy: 0.9956\n"
     ]
    },
    {
     "data": {
      "text/plain": [
       "<keras.callbacks.History at 0x1de68e4d790>"
      ]
     },
     "execution_count": 45,
     "metadata": {},
     "output_type": "execute_result"
    }
   ],
   "source": [
    "#model fit using optimal epochs as training parameter and full training set\n",
    "model.fit(x_train,y_train,epochs = np.argmin(history_dict['val_loss'])+1,batch_size = 20) "
   ]
  },
  {
   "cell_type": "code",
   "execution_count": 46,
   "id": "afb7d052",
   "metadata": {},
   "outputs": [
    {
     "name": "stdout",
     "output_type": "stream",
     "text": [
      "4/4 [==============================] - 0s 667us/step - loss: 0.0110 - accuracy: 0.9825\n"
     ]
    },
    {
     "data": {
      "text/plain": [
       "[0.0109895383939147, 0.9824561476707458]"
      ]
     },
     "execution_count": 46,
     "metadata": {},
     "output_type": "execute_result"
    }
   ],
   "source": [
    "#evaluate on our test dataset\n",
    "results = model.evaluate(x_test, y_test)\n",
    "results"
   ]
  },
  {
   "cell_type": "markdown",
   "id": "8364cd6a",
   "metadata": {},
   "source": [
    "Binary cross entropy is still the better choice.\n",
    "<table>\n",
    "  <tr>\n",
    "    <th>Loss Function</th>\n",
    "    <th>Accuracy</th>\n",
    "  </tr>\n",
    "    <tr>\n",
    "    <td>binary_crossentropy</td>\n",
    "    <td>0.9978</td>\n",
    "  </tr>\n",
    "  <tr>\n",
    "    <td>mse</td>\n",
    "    <td>0.9825</td>\n",
    "  </tr>\n",
    "</table>"
   ]
  },
  {
   "cell_type": "markdown",
   "id": "e39f72c2",
   "metadata": {},
   "source": [
    "### Using a diferent activation, for example, tanh instead of relu\n",
    "Finally, we try one last hyper parameter change, the activation. We will change it from relu to tanh, a type of activation very famous on the initial neural network’s times. Again, we will use all optimal hyper parameters so far."
   ]
  },
  {
   "cell_type": "code",
   "execution_count": 47,
   "id": "17e8b4a3",
   "metadata": {},
   "outputs": [
    {
     "name": "stdout",
     "output_type": "stream",
     "text": [
      "Epoch 1/30\n",
      "18/18 [==============================] - 0s 6ms/step - loss: 0.3790 - accuracy: 0.8873 - val_loss: 0.2266 - val_accuracy: 0.9200\n",
      "Epoch 2/30\n",
      "18/18 [==============================] - 0s 2ms/step - loss: 0.1999 - accuracy: 0.9521 - val_loss: 0.1487 - val_accuracy: 0.9500\n",
      "Epoch 3/30\n",
      "18/18 [==============================] - 0s 2ms/step - loss: 0.1455 - accuracy: 0.9577 - val_loss: 0.1122 - val_accuracy: 0.9500\n",
      "Epoch 4/30\n",
      "18/18 [==============================] - 0s 2ms/step - loss: 0.1182 - accuracy: 0.9662 - val_loss: 0.0936 - val_accuracy: 0.9500\n",
      "Epoch 5/30\n",
      "18/18 [==============================] - 0s 2ms/step - loss: 0.1033 - accuracy: 0.9718 - val_loss: 0.0838 - val_accuracy: 0.9500\n",
      "Epoch 6/30\n",
      "18/18 [==============================] - 0s 2ms/step - loss: 0.0941 - accuracy: 0.9746 - val_loss: 0.0759 - val_accuracy: 0.9700\n",
      "Epoch 7/30\n",
      "18/18 [==============================] - 0s 2ms/step - loss: 0.0879 - accuracy: 0.9746 - val_loss: 0.0717 - val_accuracy: 0.9700\n",
      "Epoch 8/30\n",
      "18/18 [==============================] - 0s 2ms/step - loss: 0.0835 - accuracy: 0.9718 - val_loss: 0.0696 - val_accuracy: 0.9700\n",
      "Epoch 9/30\n",
      "18/18 [==============================] - 0s 2ms/step - loss: 0.0798 - accuracy: 0.9746 - val_loss: 0.0677 - val_accuracy: 0.9700\n",
      "Epoch 10/30\n",
      "18/18 [==============================] - 0s 2ms/step - loss: 0.0766 - accuracy: 0.9775 - val_loss: 0.0656 - val_accuracy: 0.9800\n",
      "Epoch 11/30\n",
      "18/18 [==============================] - 0s 2ms/step - loss: 0.0741 - accuracy: 0.9775 - val_loss: 0.0640 - val_accuracy: 0.9700\n",
      "Epoch 12/30\n",
      "18/18 [==============================] - 0s 2ms/step - loss: 0.0726 - accuracy: 0.9775 - val_loss: 0.0637 - val_accuracy: 0.9700\n",
      "Epoch 13/30\n",
      "18/18 [==============================] - 0s 2ms/step - loss: 0.0696 - accuracy: 0.9831 - val_loss: 0.0617 - val_accuracy: 0.9700\n",
      "Epoch 14/30\n",
      "18/18 [==============================] - 0s 2ms/step - loss: 0.0687 - accuracy: 0.9831 - val_loss: 0.0620 - val_accuracy: 0.9800\n",
      "Epoch 15/30\n",
      "18/18 [==============================] - 0s 2ms/step - loss: 0.0659 - accuracy: 0.9803 - val_loss: 0.0602 - val_accuracy: 0.9800\n",
      "Epoch 16/30\n",
      "18/18 [==============================] - 0s 2ms/step - loss: 0.0660 - accuracy: 0.9831 - val_loss: 0.0600 - val_accuracy: 0.9800\n",
      "Epoch 17/30\n",
      "18/18 [==============================] - 0s 2ms/step - loss: 0.0637 - accuracy: 0.9831 - val_loss: 0.0604 - val_accuracy: 0.9800\n",
      "Epoch 18/30\n",
      "18/18 [==============================] - 0s 2ms/step - loss: 0.0622 - accuracy: 0.9831 - val_loss: 0.0596 - val_accuracy: 0.9800\n",
      "Epoch 19/30\n",
      "18/18 [==============================] - 0s 2ms/step - loss: 0.0619 - accuracy: 0.9831 - val_loss: 0.0599 - val_accuracy: 0.9800\n",
      "Epoch 20/30\n",
      "18/18 [==============================] - 0s 2ms/step - loss: 0.0596 - accuracy: 0.9831 - val_loss: 0.0606 - val_accuracy: 0.9800\n",
      "Epoch 21/30\n",
      "18/18 [==============================] - 0s 2ms/step - loss: 0.0576 - accuracy: 0.9831 - val_loss: 0.0560 - val_accuracy: 0.9800\n",
      "Epoch 22/30\n",
      "18/18 [==============================] - 0s 2ms/step - loss: 0.0574 - accuracy: 0.9831 - val_loss: 0.0572 - val_accuracy: 0.9800\n",
      "Epoch 23/30\n",
      "18/18 [==============================] - 0s 2ms/step - loss: 0.0560 - accuracy: 0.9859 - val_loss: 0.0559 - val_accuracy: 0.9800\n",
      "Epoch 24/30\n",
      "18/18 [==============================] - 0s 2ms/step - loss: 0.0561 - accuracy: 0.9803 - val_loss: 0.0540 - val_accuracy: 0.9800\n",
      "Epoch 25/30\n",
      "18/18 [==============================] - 0s 2ms/step - loss: 0.0546 - accuracy: 0.9859 - val_loss: 0.0551 - val_accuracy: 0.9800\n",
      "Epoch 26/30\n",
      "18/18 [==============================] - 0s 2ms/step - loss: 0.0536 - accuracy: 0.9831 - val_loss: 0.0531 - val_accuracy: 0.9800\n",
      "Epoch 27/30\n",
      "18/18 [==============================] - 0s 2ms/step - loss: 0.0516 - accuracy: 0.9831 - val_loss: 0.0544 - val_accuracy: 0.9800\n",
      "Epoch 28/30\n",
      "18/18 [==============================] - 0s 2ms/step - loss: 0.0516 - accuracy: 0.9859 - val_loss: 0.0521 - val_accuracy: 0.9800\n",
      "Epoch 29/30\n",
      "18/18 [==============================] - 0s 2ms/step - loss: 0.0507 - accuracy: 0.9859 - val_loss: 0.0542 - val_accuracy: 0.9800\n",
      "Epoch 30/30\n",
      "18/18 [==============================] - 0s 2ms/step - loss: 0.0488 - accuracy: 0.9859 - val_loss: 0.0551 - val_accuracy: 0.9800\n"
     ]
    }
   ],
   "source": [
    "#model definition using tanh activation function\n",
    "model = models.Sequential()\n",
    "model.add(layers.Dense(32, activation = 'tanh'))\n",
    "model.add(layers.Dense(32, activation = 'tanh'))\n",
    "model.add(layers.Dense(1, activation = 'sigmoid'))\n",
    "\n",
    "\n",
    "\n",
    "#model compilation\n",
    "model.compile(optimizer='rmsprop',\n",
    "             loss='binary_crossentropy',\n",
    "             metrics=['accuracy'])\n",
    "\n",
    "#Training the model\n",
    "history = model.fit(partial_x_train, \n",
    "                    partial_y_train,\n",
    "                    epochs = 30,\n",
    "                    batch_size = 20,\n",
    "                    validation_data = (x_val, y_val)) "
   ]
  },
  {
   "cell_type": "code",
   "execution_count": 48,
   "id": "5490a842",
   "metadata": {},
   "outputs": [
    {
     "data": {
      "image/png": "[encoded data removed]",
      "text/plain": [
       "<Figure size 640x480 with 1 Axes>"
      ]
     },
     "metadata": {},
     "output_type": "display_data"
    },
    {
     "data": {
      "text/plain": [
       "[0.22661983966827393,\n",
       " 0.1487044394016266,\n",
       " 0.1122220978140831,\n",
       " 0.0935799703001976,\n",
       " 0.08376312255859375,\n",
       " 0.0759003534913063,\n",
       " 0.07170809805393219,\n",
       " 0.06960625946521759,\n",
       " 0.06765639036893845,\n",
       " 0.06560986489057541,\n",
       " 0.06398230791091919,\n",
       " 0.06369150429964066,\n",
       " 0.06174111366271973,\n",
       " 0.061988525092601776,\n",
       " 0.060183051973581314,\n",
       " 0.06004946678876877,\n",
       " 0.060383155941963196,\n",
       " 0.05960864946246147,\n",
       " 0.059883877635002136,\n",
       " 0.06056021526455879,\n",
       " 0.056019481271505356,\n",
       " 0.0571633018553257,\n",
       " 0.055877067148685455,\n",
       " 0.05396344140172005,\n",
       " 0.05505350977182388,\n",
       " 0.053053226321935654,\n",
       " 0.05443486198782921,\n",
       " 0.0520673468708992,\n",
       " 0.05424312502145767,\n",
       " 0.055112823843955994]"
      ]
     },
     "execution_count": 48,
     "metadata": {},
     "output_type": "execute_result"
    }
   ],
   "source": [
    "history_dict = history.history\n",
    "history_dict.keys()\n",
    "\n",
    "#calling function to plot validation, training loss\n",
    "plot_train_val_loss(history_dict['loss'],history_dict['val_loss'])"
   ]
  },
  {
   "cell_type": "code",
   "execution_count": 49,
   "id": "29b4158d",
   "metadata": {},
   "outputs": [
    {
     "name": "stdout",
     "output_type": "stream",
     "text": [
      "28 epochs\n"
     ]
    }
   ],
   "source": [
    "#optimal epoch\n",
    "print(np.argmin(history_dict['val_loss'])+1, 'epochs')"
   ]
  },
  {
   "cell_type": "code",
   "execution_count": 50,
   "id": "f5d8136e",
   "metadata": {},
   "outputs": [
    {
     "data": {
      "text/plain": [
       "0.98591548204422"
      ]
     },
     "execution_count": 50,
     "metadata": {},
     "output_type": "execute_result"
    }
   ],
   "source": [
    "#accuracy for optimal epochs training\n",
    "history_dict['accuracy'][np.argmin(history_dict['val_loss'])+1]"
   ]
  },
  {
   "cell_type": "code",
   "execution_count": 51,
   "id": "5c16e4f8",
   "metadata": {},
   "outputs": [
    {
     "name": "stdout",
     "output_type": "stream",
     "text": [
      "Epoch 1/28\n",
      "23/23 [==============================] - 0s 799us/step - loss: 0.0482 - accuracy: 0.9846\n",
      "Epoch 2/28\n",
      "23/23 [==============================] - 0s 708us/step - loss: 0.0458 - accuracy: 0.9846\n",
      "Epoch 3/28\n",
      "23/23 [==============================] - 0s 733us/step - loss: 0.0442 - accuracy: 0.9824\n",
      "Epoch 4/28\n",
      "23/23 [==============================] - 0s 775us/step - loss: 0.0429 - accuracy: 0.9890\n",
      "Epoch 5/28\n",
      "23/23 [==============================] - 0s 706us/step - loss: 0.0417 - accuracy: 0.9868\n",
      "Epoch 6/28\n",
      "23/23 [==============================] - 0s 709us/step - loss: 0.0400 - accuracy: 0.9912\n",
      "Epoch 7/28\n",
      "23/23 [==============================] - 0s 729us/step - loss: 0.0389 - accuracy: 0.9890\n",
      "Epoch 8/28\n",
      "23/23 [==============================] - 0s 733us/step - loss: 0.0373 - accuracy: 0.9890\n",
      "Epoch 9/28\n",
      "23/23 [==============================] - 0s 686us/step - loss: 0.0347 - accuracy: 0.9934\n",
      "Epoch 10/28\n",
      "23/23 [==============================] - 0s 728us/step - loss: 0.0364 - accuracy: 0.9912\n",
      "Epoch 11/28\n",
      "23/23 [==============================] - 0s 700us/step - loss: 0.0346 - accuracy: 0.9868\n",
      "Epoch 12/28\n",
      "23/23 [==============================] - 0s 682us/step - loss: 0.0331 - accuracy: 0.9890\n",
      "Epoch 13/28\n",
      "23/23 [==============================] - 0s 706us/step - loss: 0.0329 - accuracy: 0.9912\n",
      "Epoch 14/28\n",
      "23/23 [==============================] - 0s 683us/step - loss: 0.0308 - accuracy: 0.9912\n",
      "Epoch 15/28\n",
      "23/23 [==============================] - 0s 776us/step - loss: 0.0292 - accuracy: 0.9912\n",
      "Epoch 16/28\n",
      "23/23 [==============================] - 0s 692us/step - loss: 0.0289 - accuracy: 0.9912\n",
      "Epoch 17/28\n",
      "23/23 [==============================] - 0s 683us/step - loss: 0.0274 - accuracy: 0.9912\n",
      "Epoch 18/28\n",
      "23/23 [==============================] - 0s 751us/step - loss: 0.0267 - accuracy: 0.9912\n",
      "Epoch 19/28\n",
      "23/23 [==============================] - 0s 722us/step - loss: 0.0262 - accuracy: 0.9912\n",
      "Epoch 20/28\n",
      "23/23 [==============================] - 0s 706us/step - loss: 0.0243 - accuracy: 0.9934\n",
      "Epoch 21/28\n",
      "23/23 [==============================] - 0s 705us/step - loss: 0.0232 - accuracy: 0.9934\n",
      "Epoch 22/28\n",
      "23/23 [==============================] - 0s 706us/step - loss: 0.0216 - accuracy: 0.9934\n",
      "Epoch 23/28\n",
      "23/23 [==============================] - 0s 776us/step - loss: 0.0213 - accuracy: 0.9912\n",
      "Epoch 24/28\n",
      "23/23 [==============================] - 0s 694us/step - loss: 0.0211 - accuracy: 0.9912\n",
      "Epoch 25/28\n",
      "23/23 [==============================] - 0s 683us/step - loss: 0.0200 - accuracy: 0.9934\n",
      "Epoch 26/28\n",
      "23/23 [==============================] - 0s 708us/step - loss: 0.0175 - accuracy: 0.9934\n",
      "Epoch 27/28\n",
      "23/23 [==============================] - 0s 661us/step - loss: 0.0186 - accuracy: 0.9912\n",
      "Epoch 28/28\n",
      "23/23 [==============================] - 0s 729us/step - loss: 0.0159 - accuracy: 0.9912\n"
     ]
    },
    {
     "data": {
      "text/plain": [
       "<keras.callbacks.History at 0x1de6b15a4f0>"
      ]
     },
     "execution_count": 51,
     "metadata": {},
     "output_type": "execute_result"
    }
   ],
   "source": [
    "#model fit using optimal epochs as training parameter and full training set\n",
    "model.fit(x_train,y_train,epochs = np.argmin(history_dict['val_loss'])+1,batch_size = 20) "
   ]
  },
  {
   "cell_type": "code",
   "execution_count": 52,
   "id": "ecb52356",
   "metadata": {},
   "outputs": [
    {
     "name": "stdout",
     "output_type": "stream",
     "text": [
      "4/4 [==============================] - 0s 2ms/step - loss: 0.0272 - accuracy: 0.9912\n"
     ]
    },
    {
     "data": {
      "text/plain": [
       "[0.02718193829059601, 0.9912280440330505]"
      ]
     },
     "execution_count": 52,
     "metadata": {},
     "output_type": "execute_result"
    }
   ],
   "source": [
    "#evaluate on our test dataset\n",
    "results = model.evaluate(x_test, y_test)\n",
    "results"
   ]
  },
  {
   "cell_type": "markdown",
   "id": "f0cded52",
   "metadata": {},
   "source": [
    "The relu activation function is still the better choice.\n",
    "<table>\n",
    "  <tr>\n",
    "    <th>Activation Function</th>\n",
    "    <th>Accuracy</th>\n",
    "  </tr>\n",
    "    <tr>\n",
    "    <td>relu</td>\n",
    "    <td>0.9978</td>\n",
    "  </tr>\n",
    "  <tr>\n",
    "    <td>tanh</td>\n",
    "    <td>0.9912</td>\n",
    "  </tr>\n",
    "</table>"
   ]
  },
  {
   "cell_type": "markdown",
   "id": "68b3ec15",
   "metadata": {},
   "source": [
    "### Optimal Hyper Parameters\n",
    "<table>\n",
    "  <tr>\n",
    "    <th>Number of Intermidiate Layers</th>\n",
    "    <th>Number of Units</th>\n",
    "    <th>Loss Function</th>\n",
    "    <th>Activation</th>\n",
    "  </tr>\n",
    "    <tr>\n",
    "    <td>2</td>\n",
    "    <td>32</td>\n",
    "    <td>binary_crossentropy</td>\n",
    "    <td>relu</td>\n",
    "  </tr>\n",
    "</table>"
   ]
  },
  {
   "cell_type": "code",
   "execution_count": null,
   "id": "21f356de",
   "metadata": {},
   "outputs": [],
   "source": []
  }
 ],
 "metadata": {
  "kernelspec": {
   "display_name": "Python 3",
   "language": "python",
   "name": "python3"
  },
  "language_info": {
   "codemirror_mode": {
    "name": "ipython",
    "version": 3
   },
   "file_extension": ".py",
   "mimetype": "text/x-python",
   "name": "python",
   "nbconvert_exporter": "python",
   "pygments_lexer": "ipython3",
   "version": "3.9.16"
  }
 },
 "nbformat": 4,
 "nbformat_minor": 5
}
